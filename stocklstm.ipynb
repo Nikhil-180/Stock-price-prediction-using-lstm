{
  "nbformat": 4,
  "nbformat_minor": 0,
  "metadata": {
    "colab": {
      "provenance": []
    },
    "kernelspec": {
      "name": "python3",
      "display_name": "Python 3"
    },
    "language_info": {
      "name": "python"
    }
  },
  "cells": [
    {
      "cell_type": "code",
      "execution_count": null,
      "metadata": {
        "colab": {
          "base_uri": "https://localhost:8080/",
          "height": 424
        },
        "id": "bGNoiCWkLiwn",
        "outputId": "78b47074-416e-4c60-f55b-a6915ac810f4"
      },
      "outputs": [
        {
          "output_type": "execute_result",
          "data": {
            "text/plain": [
              "            Date       Close\n",
              "0     1986-03-13    0.097222\n",
              "1     1986-03-14    0.100694\n",
              "2     1986-03-17    0.102431\n",
              "3     1986-03-18    0.099826\n",
              "4     1986-03-19    0.098090\n",
              "...          ...         ...\n",
              "9078  2022-03-18  300.429993\n",
              "9079  2022-03-21  299.160004\n",
              "9080  2022-03-22  304.059998\n",
              "9081  2022-03-23  299.489990\n",
              "9082  2022-03-24  304.100006\n",
              "\n",
              "[9083 rows x 2 columns]"
            ],
            "text/html": [
              "\n",
              "  <div id=\"df-203041aa-e1d3-4470-aa15-416bf8bea8b2\">\n",
              "    <div class=\"colab-df-container\">\n",
              "      <div>\n",
              "<style scoped>\n",
              "    .dataframe tbody tr th:only-of-type {\n",
              "        vertical-align: middle;\n",
              "    }\n",
              "\n",
              "    .dataframe tbody tr th {\n",
              "        vertical-align: top;\n",
              "    }\n",
              "\n",
              "    .dataframe thead th {\n",
              "        text-align: right;\n",
              "    }\n",
              "</style>\n",
              "<table border=\"1\" class=\"dataframe\">\n",
              "  <thead>\n",
              "    <tr style=\"text-align: right;\">\n",
              "      <th></th>\n",
              "      <th>Date</th>\n",
              "      <th>Close</th>\n",
              "    </tr>\n",
              "  </thead>\n",
              "  <tbody>\n",
              "    <tr>\n",
              "      <th>0</th>\n",
              "      <td>1986-03-13</td>\n",
              "      <td>0.097222</td>\n",
              "    </tr>\n",
              "    <tr>\n",
              "      <th>1</th>\n",
              "      <td>1986-03-14</td>\n",
              "      <td>0.100694</td>\n",
              "    </tr>\n",
              "    <tr>\n",
              "      <th>2</th>\n",
              "      <td>1986-03-17</td>\n",
              "      <td>0.102431</td>\n",
              "    </tr>\n",
              "    <tr>\n",
              "      <th>3</th>\n",
              "      <td>1986-03-18</td>\n",
              "      <td>0.099826</td>\n",
              "    </tr>\n",
              "    <tr>\n",
              "      <th>4</th>\n",
              "      <td>1986-03-19</td>\n",
              "      <td>0.098090</td>\n",
              "    </tr>\n",
              "    <tr>\n",
              "      <th>...</th>\n",
              "      <td>...</td>\n",
              "      <td>...</td>\n",
              "    </tr>\n",
              "    <tr>\n",
              "      <th>9078</th>\n",
              "      <td>2022-03-18</td>\n",
              "      <td>300.429993</td>\n",
              "    </tr>\n",
              "    <tr>\n",
              "      <th>9079</th>\n",
              "      <td>2022-03-21</td>\n",
              "      <td>299.160004</td>\n",
              "    </tr>\n",
              "    <tr>\n",
              "      <th>9080</th>\n",
              "      <td>2022-03-22</td>\n",
              "      <td>304.059998</td>\n",
              "    </tr>\n",
              "    <tr>\n",
              "      <th>9081</th>\n",
              "      <td>2022-03-23</td>\n",
              "      <td>299.489990</td>\n",
              "    </tr>\n",
              "    <tr>\n",
              "      <th>9082</th>\n",
              "      <td>2022-03-24</td>\n",
              "      <td>304.100006</td>\n",
              "    </tr>\n",
              "  </tbody>\n",
              "</table>\n",
              "<p>9083 rows × 2 columns</p>\n",
              "</div>\n",
              "      <button class=\"colab-df-convert\" onclick=\"convertToInteractive('df-203041aa-e1d3-4470-aa15-416bf8bea8b2')\"\n",
              "              title=\"Convert this dataframe to an interactive table.\"\n",
              "              style=\"display:none;\">\n",
              "        \n",
              "  <svg xmlns=\"http://www.w3.org/2000/svg\" height=\"24px\"viewBox=\"0 0 24 24\"\n",
              "       width=\"24px\">\n",
              "    <path d=\"M0 0h24v24H0V0z\" fill=\"none\"/>\n",
              "    <path d=\"M18.56 5.44l.94 2.06.94-2.06 2.06-.94-2.06-.94-.94-2.06-.94 2.06-2.06.94zm-11 1L8.5 8.5l.94-2.06 2.06-.94-2.06-.94L8.5 2.5l-.94 2.06-2.06.94zm10 10l.94 2.06.94-2.06 2.06-.94-2.06-.94-.94-2.06-.94 2.06-2.06.94z\"/><path d=\"M17.41 7.96l-1.37-1.37c-.4-.4-.92-.59-1.43-.59-.52 0-1.04.2-1.43.59L10.3 9.45l-7.72 7.72c-.78.78-.78 2.05 0 2.83L4 21.41c.39.39.9.59 1.41.59.51 0 1.02-.2 1.41-.59l7.78-7.78 2.81-2.81c.8-.78.8-2.07 0-2.86zM5.41 20L4 18.59l7.72-7.72 1.47 1.35L5.41 20z\"/>\n",
              "  </svg>\n",
              "      </button>\n",
              "      \n",
              "  <style>\n",
              "    .colab-df-container {\n",
              "      display:flex;\n",
              "      flex-wrap:wrap;\n",
              "      gap: 12px;\n",
              "    }\n",
              "\n",
              "    .colab-df-convert {\n",
              "      background-color: #E8F0FE;\n",
              "      border: none;\n",
              "      border-radius: 50%;\n",
              "      cursor: pointer;\n",
              "      display: none;\n",
              "      fill: #1967D2;\n",
              "      height: 32px;\n",
              "      padding: 0 0 0 0;\n",
              "      width: 32px;\n",
              "    }\n",
              "\n",
              "    .colab-df-convert:hover {\n",
              "      background-color: #E2EBFA;\n",
              "      box-shadow: 0px 1px 2px rgba(60, 64, 67, 0.3), 0px 1px 3px 1px rgba(60, 64, 67, 0.15);\n",
              "      fill: #174EA6;\n",
              "    }\n",
              "\n",
              "    [theme=dark] .colab-df-convert {\n",
              "      background-color: #3B4455;\n",
              "      fill: #D2E3FC;\n",
              "    }\n",
              "\n",
              "    [theme=dark] .colab-df-convert:hover {\n",
              "      background-color: #434B5C;\n",
              "      box-shadow: 0px 1px 3px 1px rgba(0, 0, 0, 0.15);\n",
              "      filter: drop-shadow(0px 1px 2px rgba(0, 0, 0, 0.3));\n",
              "      fill: #FFFFFF;\n",
              "    }\n",
              "  </style>\n",
              "\n",
              "      <script>\n",
              "        const buttonEl =\n",
              "          document.querySelector('#df-203041aa-e1d3-4470-aa15-416bf8bea8b2 button.colab-df-convert');\n",
              "        buttonEl.style.display =\n",
              "          google.colab.kernel.accessAllowed ? 'block' : 'none';\n",
              "\n",
              "        async function convertToInteractive(key) {\n",
              "          const element = document.querySelector('#df-203041aa-e1d3-4470-aa15-416bf8bea8b2');\n",
              "          const dataTable =\n",
              "            await google.colab.kernel.invokeFunction('convertToInteractive',\n",
              "                                                     [key], {});\n",
              "          if (!dataTable) return;\n",
              "\n",
              "          const docLinkHtml = 'Like what you see? Visit the ' +\n",
              "            '<a target=\"_blank\" href=https://colab.research.google.com/notebooks/data_table.ipynb>data table notebook</a>'\n",
              "            + ' to learn more about interactive tables.';\n",
              "          element.innerHTML = '';\n",
              "          dataTable['output_type'] = 'display_data';\n",
              "          await google.colab.output.renderOutput(dataTable, element);\n",
              "          const docLink = document.createElement('div');\n",
              "          docLink.innerHTML = docLinkHtml;\n",
              "          element.appendChild(docLink);\n",
              "        }\n",
              "      </script>\n",
              "    </div>\n",
              "  </div>\n",
              "  "
            ]
          },
          "metadata": {},
          "execution_count": 41
        }
      ],
      "source": [
        "#importing libraries\n",
        "import pandas as pd\n",
        "import matplotlib.pyplot as plt\n",
        "import numpy as nm\n",
        "\n",
        "#read csv file and removing the unnecessary column \n",
        "df=pd.read_csv('MSFT.csv')\n",
        "df = df[['Date','Close']]\n",
        "df"
      ]
    },
    {
      "cell_type": "code",
      "source": [
        "#function for converting the date value which is of type object to integer\n",
        "import datetime\n",
        "def str_to_datetime(s):\n",
        "    split=s.split('-')\n",
        "    year,month,day=int(split[0]), int(split[1]), int(split[2])\n",
        "    return datetime.datetime(year=year, month=month, day=day)"
      ],
      "metadata": {
        "id": "A6_HFPRiMgue"
      },
      "execution_count": null,
      "outputs": []
    },
    {
      "cell_type": "code",
      "source": [
        "#passing the function to convert the datatype of df to integer\n",
        "df['Date']=df['Date'].apply(str_to_datetime)\n",
        "df['Date']"
      ],
      "metadata": {
        "colab": {
          "base_uri": "https://localhost:8080/"
        },
        "id": "8zgyjqeWM7aR",
        "outputId": "37740d7d-b241-4a7b-e833-9b3926b6a084"
      },
      "execution_count": null,
      "outputs": [
        {
          "output_type": "execute_result",
          "data": {
            "text/plain": [
              "0      1986-03-13\n",
              "1      1986-03-14\n",
              "2      1986-03-17\n",
              "3      1986-03-18\n",
              "4      1986-03-19\n",
              "          ...    \n",
              "9078   2022-03-18\n",
              "9079   2022-03-21\n",
              "9080   2022-03-22\n",
              "9081   2022-03-23\n",
              "9082   2022-03-24\n",
              "Name: Date, Length: 9083, dtype: datetime64[ns]"
            ]
          },
          "metadata": {},
          "execution_count": 43
        }
      ]
    },
    {
      "cell_type": "code",
      "source": [
        "df.index=df.pop('Date')\n",
        "df"
      ],
      "metadata": {
        "colab": {
          "base_uri": "https://localhost:8080/",
          "height": 455
        },
        "id": "Sq9u_gvNxrFt",
        "outputId": "7a36fed4-b1c1-4bc7-f487-4672e115bb5d"
      },
      "execution_count": null,
      "outputs": [
        {
          "output_type": "execute_result",
          "data": {
            "text/plain": [
              "                 Close\n",
              "Date                  \n",
              "1986-03-13    0.097222\n",
              "1986-03-14    0.100694\n",
              "1986-03-17    0.102431\n",
              "1986-03-18    0.099826\n",
              "1986-03-19    0.098090\n",
              "...                ...\n",
              "2022-03-18  300.429993\n",
              "2022-03-21  299.160004\n",
              "2022-03-22  304.059998\n",
              "2022-03-23  299.489990\n",
              "2022-03-24  304.100006\n",
              "\n",
              "[9083 rows x 1 columns]"
            ],
            "text/html": [
              "\n",
              "  <div id=\"df-dca8af7f-bd54-40dc-999f-191f87ad3ca5\">\n",
              "    <div class=\"colab-df-container\">\n",
              "      <div>\n",
              "<style scoped>\n",
              "    .dataframe tbody tr th:only-of-type {\n",
              "        vertical-align: middle;\n",
              "    }\n",
              "\n",
              "    .dataframe tbody tr th {\n",
              "        vertical-align: top;\n",
              "    }\n",
              "\n",
              "    .dataframe thead th {\n",
              "        text-align: right;\n",
              "    }\n",
              "</style>\n",
              "<table border=\"1\" class=\"dataframe\">\n",
              "  <thead>\n",
              "    <tr style=\"text-align: right;\">\n",
              "      <th></th>\n",
              "      <th>Close</th>\n",
              "    </tr>\n",
              "    <tr>\n",
              "      <th>Date</th>\n",
              "      <th></th>\n",
              "    </tr>\n",
              "  </thead>\n",
              "  <tbody>\n",
              "    <tr>\n",
              "      <th>1986-03-13</th>\n",
              "      <td>0.097222</td>\n",
              "    </tr>\n",
              "    <tr>\n",
              "      <th>1986-03-14</th>\n",
              "      <td>0.100694</td>\n",
              "    </tr>\n",
              "    <tr>\n",
              "      <th>1986-03-17</th>\n",
              "      <td>0.102431</td>\n",
              "    </tr>\n",
              "    <tr>\n",
              "      <th>1986-03-18</th>\n",
              "      <td>0.099826</td>\n",
              "    </tr>\n",
              "    <tr>\n",
              "      <th>1986-03-19</th>\n",
              "      <td>0.098090</td>\n",
              "    </tr>\n",
              "    <tr>\n",
              "      <th>...</th>\n",
              "      <td>...</td>\n",
              "    </tr>\n",
              "    <tr>\n",
              "      <th>2022-03-18</th>\n",
              "      <td>300.429993</td>\n",
              "    </tr>\n",
              "    <tr>\n",
              "      <th>2022-03-21</th>\n",
              "      <td>299.160004</td>\n",
              "    </tr>\n",
              "    <tr>\n",
              "      <th>2022-03-22</th>\n",
              "      <td>304.059998</td>\n",
              "    </tr>\n",
              "    <tr>\n",
              "      <th>2022-03-23</th>\n",
              "      <td>299.489990</td>\n",
              "    </tr>\n",
              "    <tr>\n",
              "      <th>2022-03-24</th>\n",
              "      <td>304.100006</td>\n",
              "    </tr>\n",
              "  </tbody>\n",
              "</table>\n",
              "<p>9083 rows × 1 columns</p>\n",
              "</div>\n",
              "      <button class=\"colab-df-convert\" onclick=\"convertToInteractive('df-dca8af7f-bd54-40dc-999f-191f87ad3ca5')\"\n",
              "              title=\"Convert this dataframe to an interactive table.\"\n",
              "              style=\"display:none;\">\n",
              "        \n",
              "  <svg xmlns=\"http://www.w3.org/2000/svg\" height=\"24px\"viewBox=\"0 0 24 24\"\n",
              "       width=\"24px\">\n",
              "    <path d=\"M0 0h24v24H0V0z\" fill=\"none\"/>\n",
              "    <path d=\"M18.56 5.44l.94 2.06.94-2.06 2.06-.94-2.06-.94-.94-2.06-.94 2.06-2.06.94zm-11 1L8.5 8.5l.94-2.06 2.06-.94-2.06-.94L8.5 2.5l-.94 2.06-2.06.94zm10 10l.94 2.06.94-2.06 2.06-.94-2.06-.94-.94-2.06-.94 2.06-2.06.94z\"/><path d=\"M17.41 7.96l-1.37-1.37c-.4-.4-.92-.59-1.43-.59-.52 0-1.04.2-1.43.59L10.3 9.45l-7.72 7.72c-.78.78-.78 2.05 0 2.83L4 21.41c.39.39.9.59 1.41.59.51 0 1.02-.2 1.41-.59l7.78-7.78 2.81-2.81c.8-.78.8-2.07 0-2.86zM5.41 20L4 18.59l7.72-7.72 1.47 1.35L5.41 20z\"/>\n",
              "  </svg>\n",
              "      </button>\n",
              "      \n",
              "  <style>\n",
              "    .colab-df-container {\n",
              "      display:flex;\n",
              "      flex-wrap:wrap;\n",
              "      gap: 12px;\n",
              "    }\n",
              "\n",
              "    .colab-df-convert {\n",
              "      background-color: #E8F0FE;\n",
              "      border: none;\n",
              "      border-radius: 50%;\n",
              "      cursor: pointer;\n",
              "      display: none;\n",
              "      fill: #1967D2;\n",
              "      height: 32px;\n",
              "      padding: 0 0 0 0;\n",
              "      width: 32px;\n",
              "    }\n",
              "\n",
              "    .colab-df-convert:hover {\n",
              "      background-color: #E2EBFA;\n",
              "      box-shadow: 0px 1px 2px rgba(60, 64, 67, 0.3), 0px 1px 3px 1px rgba(60, 64, 67, 0.15);\n",
              "      fill: #174EA6;\n",
              "    }\n",
              "\n",
              "    [theme=dark] .colab-df-convert {\n",
              "      background-color: #3B4455;\n",
              "      fill: #D2E3FC;\n",
              "    }\n",
              "\n",
              "    [theme=dark] .colab-df-convert:hover {\n",
              "      background-color: #434B5C;\n",
              "      box-shadow: 0px 1px 3px 1px rgba(0, 0, 0, 0.15);\n",
              "      filter: drop-shadow(0px 1px 2px rgba(0, 0, 0, 0.3));\n",
              "      fill: #FFFFFF;\n",
              "    }\n",
              "  </style>\n",
              "\n",
              "      <script>\n",
              "        const buttonEl =\n",
              "          document.querySelector('#df-dca8af7f-bd54-40dc-999f-191f87ad3ca5 button.colab-df-convert');\n",
              "        buttonEl.style.display =\n",
              "          google.colab.kernel.accessAllowed ? 'block' : 'none';\n",
              "\n",
              "        async function convertToInteractive(key) {\n",
              "          const element = document.querySelector('#df-dca8af7f-bd54-40dc-999f-191f87ad3ca5');\n",
              "          const dataTable =\n",
              "            await google.colab.kernel.invokeFunction('convertToInteractive',\n",
              "                                                     [key], {});\n",
              "          if (!dataTable) return;\n",
              "\n",
              "          const docLinkHtml = 'Like what you see? Visit the ' +\n",
              "            '<a target=\"_blank\" href=https://colab.research.google.com/notebooks/data_table.ipynb>data table notebook</a>'\n",
              "            + ' to learn more about interactive tables.';\n",
              "          element.innerHTML = '';\n",
              "          dataTable['output_type'] = 'display_data';\n",
              "          await google.colab.output.renderOutput(dataTable, element);\n",
              "          const docLink = document.createElement('div');\n",
              "          docLink.innerHTML = docLinkHtml;\n",
              "          element.appendChild(docLink);\n",
              "        }\n",
              "      </script>\n",
              "    </div>\n",
              "  </div>\n",
              "  "
            ]
          },
          "metadata": {},
          "execution_count": 44
        }
      ]
    },
    {
      "cell_type": "code",
      "source": [
        "plt.plot(df.index, df['Close'])"
      ],
      "metadata": {
        "colab": {
          "base_uri": "https://localhost:8080/",
          "height": 282
        },
        "id": "xhWQuMmJN-Ap",
        "outputId": "14cc3fa3-9efe-4071-fe61-e4bbc1029c13"
      },
      "execution_count": null,
      "outputs": [
        {
          "output_type": "execute_result",
          "data": {
            "text/plain": [
              "[<matplotlib.lines.Line2D at 0x7fae81ef6b20>]"
            ]
          },
          "metadata": {},
          "execution_count": 45
        },
        {
          "output_type": "display_data",
          "data": {
            "text/plain": [
              "<Figure size 432x288 with 1 Axes>"
            ],
            "image/png": "[encoded data removed]"
          },
          "metadata": {
            "needs_background": "light"
          }
        }
      ]
    },
    {
      "cell_type": "code",
      "source": [
        "#for converting to supervised learning problem\n",
        "#here one target day is given and three previous val target-3, target-1 and \n",
        "#target-1 and curr val\n",
        "\n",
        "def df_to_windowed_df(dataframe, first_date_str, last_date_str, n=3):\n",
        "  first_date = str_to_datetime(first_date_str)\n",
        "  last_date  = str_to_datetime(last_date_str)\n",
        "\n",
        "  target_date = first_date\n",
        "  \n",
        "  dates = []\n",
        "  X, Y = [], []\n",
        "\n",
        "  last_time = False\n",
        "  while True:\n",
        "    df_subset = dataframe.loc[:target_date].tail(n+1)\n",
        "    \n",
        "    if len(df_subset) != n+1:\n",
        "      print(f'Error: Window of size {n} is too large for date {target_date}')\n",
        "      return\n",
        "\n",
        "    values = df_subset['Close'].to_numpy()\n",
        "    x, y = values[:-1], values[-1]\n",
        "\n",
        "    dates.append(target_date)\n",
        "    X.append(x)\n",
        "    Y.append(y)\n",
        "\n",
        "    next_week = dataframe.loc[target_date:target_date+datetime.timedelta(days=7)]\n",
        "    next_datetime_str = str(next_week.head(2).tail(1).index.values[0])\n",
        "    next_date_str = next_datetime_str.split('T')[0]\n",
        "    year_month_day = next_date_str.split('-')\n",
        "    year, month, day = year_month_day\n",
        "    next_date = datetime.datetime(day=int(day), month=int(month), year=int(year))\n",
        "    \n",
        "    if last_time:\n",
        "      break\n",
        "    \n",
        "    target_date = next_date\n",
        "\n",
        "    if target_date == last_date:\n",
        "      last_time = True\n",
        "    \n",
        "  ret_df = pd.DataFrame({})\n",
        "  ret_df['Target Date'] = dates\n",
        "  \n",
        "  X = nm.array(X)\n",
        "  for i in range(0, n):\n",
        "    X[:, i]\n",
        "    ret_df[f'Target-{n-i}'] = X[:, i]\n",
        "  \n",
        "  ret_df['Target'] = Y\n",
        "\n",
        "  return ret_df\n",
        "\n",
        "# Start day second time around: '2021-03-25'\n",
        "windowed_df = df_to_windowed_df(df, \n",
        "                                '2020-12-25', \n",
        "                                '2021-12-01', \n",
        "                                n=3)\n",
        "windowed_df"
      ],
      "metadata": {
        "colab": {
          "base_uri": "https://localhost:8080/",
          "height": 424
        },
        "id": "LOIbLkVPPmSo",
        "outputId": "9a66012f-6453-4972-9a7a-e5eda1b04c2e"
      },
      "execution_count": null,
      "outputs": [
        {
          "output_type": "execute_result",
          "data": {
            "text/plain": [
              "    Target Date    Target-3    Target-2    Target-1      Target\n",
              "0    2020-12-25  222.589996  223.940002  221.020004  222.750000\n",
              "1    2020-12-29  221.020004  222.750000  224.960007  224.149994\n",
              "2    2020-12-30  222.750000  224.960007  224.149994  221.679993\n",
              "3    2020-12-31  224.960007  224.149994  221.679993  222.419998\n",
              "4    2021-01-04  224.149994  221.679993  222.419998  217.690002\n",
              "..          ...         ...         ...         ...         ...\n",
              "230  2021-11-24  343.109985  339.829987  337.679993  337.910004\n",
              "231  2021-11-26  339.829987  337.679993  337.910004  329.679993\n",
              "232  2021-11-29  337.679993  337.910004  329.679993  336.630005\n",
              "233  2021-11-30  337.910004  329.679993  336.630005  330.589996\n",
              "234  2021-12-01  329.679993  336.630005  330.589996  330.079987\n",
              "\n",
              "[235 rows x 5 columns]"
            ],
            "text/html": [
              "\n",
              "  <div id=\"df-46b67cfa-b5d6-44d4-91e1-c2aeb64e875d\">\n",
              "    <div class=\"colab-df-container\">\n",
              "      <div>\n",
              "<style scoped>\n",
              "    .dataframe tbody tr th:only-of-type {\n",
              "        vertical-align: middle;\n",
              "    }\n",
              "\n",
              "    .dataframe tbody tr th {\n",
              "        vertical-align: top;\n",
              "    }\n",
              "\n",
              "    .dataframe thead th {\n",
              "        text-align: right;\n",
              "    }\n",
              "</style>\n",
              "<table border=\"1\" class=\"dataframe\">\n",
              "  <thead>\n",
              "    <tr style=\"text-align: right;\">\n",
              "      <th></th>\n",
              "      <th>Target Date</th>\n",
              "      <th>Target-3</th>\n",
              "      <th>Target-2</th>\n",
              "      <th>Target-1</th>\n",
              "      <th>Target</th>\n",
              "    </tr>\n",
              "  </thead>\n",
              "  <tbody>\n",
              "    <tr>\n",
              "      <th>0</th>\n",
              "      <td>2020-12-25</td>\n",
              "      <td>222.589996</td>\n",
              "      <td>223.940002</td>\n",
              "      <td>221.020004</td>\n",
              "      <td>222.750000</td>\n",
              "    </tr>\n",
              "    <tr>\n",
              "      <th>1</th>\n",
              "      <td>2020-12-29</td>\n",
              "      <td>221.020004</td>\n",
              "      <td>222.750000</td>\n",
              "      <td>224.960007</td>\n",
              "      <td>224.149994</td>\n",
              "    </tr>\n",
              "    <tr>\n",
              "      <th>2</th>\n",
              "      <td>2020-12-30</td>\n",
              "      <td>222.750000</td>\n",
              "      <td>224.960007</td>\n",
              "      <td>224.149994</td>\n",
              "      <td>221.679993</td>\n",
              "    </tr>\n",
              "    <tr>\n",
              "      <th>3</th>\n",
              "      <td>2020-12-31</td>\n",
              "      <td>224.960007</td>\n",
              "      <td>224.149994</td>\n",
              "      <td>221.679993</td>\n",
              "      <td>222.419998</td>\n",
              "    </tr>\n",
              "    <tr>\n",
              "      <th>4</th>\n",
              "      <td>2021-01-04</td>\n",
              "      <td>224.149994</td>\n",
              "      <td>221.679993</td>\n",
              "      <td>222.419998</td>\n",
              "      <td>217.690002</td>\n",
              "    </tr>\n",
              "    <tr>\n",
              "      <th>...</th>\n",
              "      <td>...</td>\n",
              "      <td>...</td>\n",
              "      <td>...</td>\n",
              "      <td>...</td>\n",
              "      <td>...</td>\n",
              "    </tr>\n",
              "    <tr>\n",
              "      <th>230</th>\n",
              "      <td>2021-11-24</td>\n",
              "      <td>343.109985</td>\n",
              "      <td>339.829987</td>\n",
              "      <td>337.679993</td>\n",
              "      <td>337.910004</td>\n",
              "    </tr>\n",
              "    <tr>\n",
              "      <th>231</th>\n",
              "      <td>2021-11-26</td>\n",
              "      <td>339.829987</td>\n",
              "      <td>337.679993</td>\n",
              "      <td>337.910004</td>\n",
              "      <td>329.679993</td>\n",
              "    </tr>\n",
              "    <tr>\n",
              "      <th>232</th>\n",
              "      <td>2021-11-29</td>\n",
              "      <td>337.679993</td>\n",
              "      <td>337.910004</td>\n",
              "      <td>329.679993</td>\n",
              "      <td>336.630005</td>\n",
              "    </tr>\n",
              "    <tr>\n",
              "      <th>233</th>\n",
              "      <td>2021-11-30</td>\n",
              "      <td>337.910004</td>\n",
              "      <td>329.679993</td>\n",
              "      <td>336.630005</td>\n",
              "      <td>330.589996</td>\n",
              "    </tr>\n",
              "    <tr>\n",
              "      <th>234</th>\n",
              "      <td>2021-12-01</td>\n",
              "      <td>329.679993</td>\n",
              "      <td>336.630005</td>\n",
              "      <td>330.589996</td>\n",
              "      <td>330.079987</td>\n",
              "    </tr>\n",
              "  </tbody>\n",
              "</table>\n",
              "<p>235 rows × 5 columns</p>\n",
              "</div>\n",
              "      <button class=\"colab-df-convert\" onclick=\"convertToInteractive('df-46b67cfa-b5d6-44d4-91e1-c2aeb64e875d')\"\n",
              "              title=\"Convert this dataframe to an interactive table.\"\n",
              "              style=\"display:none;\">\n",
              "        \n",
              "  <svg xmlns=\"http://www.w3.org/2000/svg\" height=\"24px\"viewBox=\"0 0 24 24\"\n",
              "       width=\"24px\">\n",
              "    <path d=\"M0 0h24v24H0V0z\" fill=\"none\"/>\n",
              "    <path d=\"M18.56 5.44l.94 2.06.94-2.06 2.06-.94-2.06-.94-.94-2.06-.94 2.06-2.06.94zm-11 1L8.5 8.5l.94-2.06 2.06-.94-2.06-.94L8.5 2.5l-.94 2.06-2.06.94zm10 10l.94 2.06.94-2.06 2.06-.94-2.06-.94-.94-2.06-.94 2.06-2.06.94z\"/><path d=\"M17.41 7.96l-1.37-1.37c-.4-.4-.92-.59-1.43-.59-.52 0-1.04.2-1.43.59L10.3 9.45l-7.72 7.72c-.78.78-.78 2.05 0 2.83L4 21.41c.39.39.9.59 1.41.59.51 0 1.02-.2 1.41-.59l7.78-7.78 2.81-2.81c.8-.78.8-2.07 0-2.86zM5.41 20L4 18.59l7.72-7.72 1.47 1.35L5.41 20z\"/>\n",
              "  </svg>\n",
              "      </button>\n",
              "      \n",
              "  <style>\n",
              "    .colab-df-container {\n",
              "      display:flex;\n",
              "      flex-wrap:wrap;\n",
              "      gap: 12px;\n",
              "    }\n",
              "\n",
              "    .colab-df-convert {\n",
              "      background-color: #E8F0FE;\n",
              "      border: none;\n",
              "      border-radius: 50%;\n",
              "      cursor: pointer;\n",
              "      display: none;\n",
              "      fill: #1967D2;\n",
              "      height: 32px;\n",
              "      padding: 0 0 0 0;\n",
              "      width: 32px;\n",
              "    }\n",
              "\n",
              "    .colab-df-convert:hover {\n",
              "      background-color: #E2EBFA;\n",
              "      box-shadow: 0px 1px 2px rgba(60, 64, 67, 0.3), 0px 1px 3px 1px rgba(60, 64, 67, 0.15);\n",
              "      fill: #174EA6;\n",
              "    }\n",
              "\n",
              "    [theme=dark] .colab-df-convert {\n",
              "      background-color: #3B4455;\n",
              "      fill: #D2E3FC;\n",
              "    }\n",
              "\n",
              "    [theme=dark] .colab-df-convert:hover {\n",
              "      background-color: #434B5C;\n",
              "      box-shadow: 0px 1px 3px 1px rgba(0, 0, 0, 0.15);\n",
              "      filter: drop-shadow(0px 1px 2px rgba(0, 0, 0, 0.3));\n",
              "      fill: #FFFFFF;\n",
              "    }\n",
              "  </style>\n",
              "\n",
              "      <script>\n",
              "        const buttonEl =\n",
              "          document.querySelector('#df-46b67cfa-b5d6-44d4-91e1-c2aeb64e875d button.colab-df-convert');\n",
              "        buttonEl.style.display =\n",
              "          google.colab.kernel.accessAllowed ? 'block' : 'none';\n",
              "\n",
              "        async function convertToInteractive(key) {\n",
              "          const element = document.querySelector('#df-46b67cfa-b5d6-44d4-91e1-c2aeb64e875d');\n",
              "          const dataTable =\n",
              "            await google.colab.kernel.invokeFunction('convertToInteractive',\n",
              "                                                     [key], {});\n",
              "          if (!dataTable) return;\n",
              "\n",
              "          const docLinkHtml = 'Like what you see? Visit the ' +\n",
              "            '<a target=\"_blank\" href=https://colab.research.google.com/notebooks/data_table.ipynb>data table notebook</a>'\n",
              "            + ' to learn more about interactive tables.';\n",
              "          element.innerHTML = '';\n",
              "          dataTable['output_type'] = 'display_data';\n",
              "          await google.colab.output.renderOutput(dataTable, element);\n",
              "          const docLink = document.createElement('div');\n",
              "          docLink.innerHTML = docLinkHtml;\n",
              "          element.appendChild(docLink);\n",
              "        }\n",
              "      </script>\n",
              "    </div>\n",
              "  </div>\n",
              "  "
            ]
          },
          "metadata": {},
          "execution_count": 46
        }
      ]
    },
    {
      "cell_type": "code",
      "source": [
        "#converting above data to numpy arrays to directly feed into tensorflow model\n",
        "#x id 3d array i.e. all three previous value and y is output factor(target)\n",
        "def windowed_df_to_date_X_y(windowed_dataframe):\n",
        "  df_as_np = windowed_dataframe.to_numpy()\n",
        "\n",
        "  dates = df_as_np[:, 0]\n",
        "\n",
        "  middle_matrix = df_as_np[:, 1:-1]\n",
        "  X = middle_matrix.reshape((len(dates), middle_matrix.shape[1], 1))\n",
        "\n",
        "  Y = df_as_np[:, -1]\n",
        "\n",
        "  return dates, X.astype(nm.float32), Y.astype(nm.float32)\n",
        "\n",
        "dates, X, y = windowed_df_to_date_X_y(windowed_df)\n",
        "\n",
        "dates.shape, X.shape, y.shape"
      ],
      "metadata": {
        "colab": {
          "base_uri": "https://localhost:8080/"
        },
        "id": "WZ8QnSSwQHx-",
        "outputId": "58a42dba-4f7c-489d-ad53-932731dd1d46"
      },
      "execution_count": null,
      "outputs": [
        {
          "output_type": "execute_result",
          "data": {
            "text/plain": [
              "((235,), (235, 3, 1), (235,))"
            ]
          },
          "metadata": {},
          "execution_count": 47
        }
      ]
    },
    {
      "cell_type": "code",
      "source": [
        "#testing, validation and training data partition\n",
        "q_80 = int(len(dates) * .8)\n",
        "q_90 = int(len(dates) * .9)\n",
        "\n",
        "dates_train, X_train, y_train = dates[:q_80], X[:q_80], y[:q_80]\n",
        "\n",
        "dates_val, X_val, y_val = dates[q_80:q_90], X[q_80:q_90], y[q_80:q_90]\n",
        "dates_test, X_test, y_test = dates[q_90:], X[q_90:], y[q_90:]\n",
        "\n",
        "plt.plot(dates_train, y_train)\n",
        "plt.plot(dates_val, y_val)\n",
        "plt.plot(dates_test, y_test)\n",
        "\n",
        "plt.legend(['Train', 'Validation', 'Test'])"
      ],
      "metadata": {
        "colab": {
          "base_uri": "https://localhost:8080/",
          "height": 282
        },
        "id": "gGizPsV2QZGn",
        "outputId": "1741cdf9-7d66-44b4-dcec-ede340fd07a4"
      },
      "execution_count": null,
      "outputs": [
        {
          "output_type": "execute_result",
          "data": {
            "text/plain": [
              "<matplotlib.legend.Legend at 0x7fae81e4c0a0>"
            ]
          },
          "metadata": {},
          "execution_count": 48
        },
        {
          "output_type": "display_data",
          "data": {
            "text/plain": [
              "<Figure size 432x288 with 1 Axes>"
            ],
            "image/png": "[encoded data removed]"
          },
          "metadata": {
            "needs_background": "light"
          }
        }
      ]
    },
    {
      "cell_type": "code",
      "source": [
        "#create and train our model\n",
        "from tensorflow.keras.models import Sequential\n",
        "from tensorflow.keras.optimizers import Adam\n",
        "from tensorflow.keras import layers\n",
        "\n",
        "model = Sequential([layers.Input((3, 1)),\n",
        "                    layers.LSTM(64),\n",
        "                    layers.Dense(32, activation='relu'),\n",
        "                    layers.Dense(32, activation='relu'),\n",
        "                    layers.Dense(1)])\n",
        "\n",
        "model.compile(loss='mse', \n",
        "              optimizer=Adam(learning_rate=0.001),\n",
        "              metrics=['mean_absolute_error'])\n",
        "\n",
        "model.fit(X_train, y_train, validation_data=(X_val, y_val), epochs=100)"
      ],
      "metadata": {
        "colab": {
          "base_uri": "https://localhost:8080/"
        },
        "id": "dnEygq1mQge_",
        "outputId": "8f0794d4-6dab-467c-fded-d08f28e406d7"
      },
      "execution_count": null,
      "outputs": [
        {
          "output_type": "stream",
          "name": "stdout",
          "text": [
            "Epoch 1/100\n",
            "6/6 [==============================] - 2s 79ms/step - loss: 67376.4922 - mean_absolute_error: 258.2650 - val_loss: 89082.1016 - val_mean_absolute_error: 298.2724\n",
            "Epoch 2/100\n",
            "6/6 [==============================] - 0s 7ms/step - loss: 67225.0938 - mean_absolute_error: 257.9733 - val_loss: 88916.2656 - val_mean_absolute_error: 297.9943\n",
            "Epoch 3/100\n",
            "6/6 [==============================] - 0s 7ms/step - loss: 67088.6562 - mean_absolute_error: 257.7078 - val_loss: 88780.4531 - val_mean_absolute_error: 297.7664\n",
            "Epoch 4/100\n",
            "6/6 [==============================] - 0s 7ms/step - loss: 66982.1328 - mean_absolute_error: 257.5006 - val_loss: 88660.6172 - val_mean_absolute_error: 297.5650\n",
            "Epoch 5/100\n",
            "6/6 [==============================] - 0s 7ms/step - loss: 66861.1797 - mean_absolute_error: 257.2643 - val_loss: 88483.6953 - val_mean_absolute_error: 297.2675\n",
            "Epoch 6/100\n",
            "6/6 [==============================] - 0s 7ms/step - loss: 66678.4453 - mean_absolute_error: 256.9100 - val_loss: 88229.3984 - val_mean_absolute_error: 296.8395\n",
            "Epoch 7/100\n",
            "6/6 [==============================] - 0s 7ms/step - loss: 66423.5469 - mean_absolute_error: 256.4146 - val_loss: 87882.8984 - val_mean_absolute_error: 296.2553\n",
            "Epoch 8/100\n",
            "6/6 [==============================] - 0s 6ms/step - loss: 66121.3047 - mean_absolute_error: 255.8264 - val_loss: 87535.2031 - val_mean_absolute_error: 295.6680\n",
            "Epoch 9/100\n",
            "6/6 [==============================] - 0s 7ms/step - loss: 65812.9453 - mean_absolute_error: 255.2204 - val_loss: 87145.9375 - val_mean_absolute_error: 295.0088\n",
            "Epoch 10/100\n",
            "6/6 [==============================] - 0s 8ms/step - loss: 65402.3984 - mean_absolute_error: 254.4123 - val_loss: 86546.7500 - val_mean_absolute_error: 293.9914\n",
            "Epoch 11/100\n",
            "6/6 [==============================] - 0s 7ms/step - loss: 64807.0117 - mean_absolute_error: 253.2423 - val_loss: 85759.7969 - val_mean_absolute_error: 292.6499\n",
            "Epoch 12/100\n",
            "6/6 [==============================] - 0s 7ms/step - loss: 64075.8633 - mean_absolute_error: 251.7886 - val_loss: 84834.0547 - val_mean_absolute_error: 291.0640\n",
            "Epoch 13/100\n",
            "6/6 [==============================] - 0s 7ms/step - loss: 63257.0703 - mean_absolute_error: 250.1606 - val_loss: 83837.9609 - val_mean_absolute_error: 289.3478\n",
            "Epoch 14/100\n",
            "6/6 [==============================] - 0s 7ms/step - loss: 62289.9414 - mean_absolute_error: 248.2176 - val_loss: 82500.3047 - val_mean_absolute_error: 287.0267\n",
            "Epoch 15/100\n",
            "6/6 [==============================] - 0s 6ms/step - loss: 60984.8672 - mean_absolute_error: 245.5775 - val_loss: 80834.8828 - val_mean_absolute_error: 284.1113\n",
            "Epoch 16/100\n",
            "6/6 [==============================] - 0s 7ms/step - loss: 59636.3398 - mean_absolute_error: 242.8255 - val_loss: 79270.9375 - val_mean_absolute_error: 281.3455\n",
            "Epoch 17/100\n",
            "6/6 [==============================] - 0s 7ms/step - loss: 58203.6641 - mean_absolute_error: 239.8451 - val_loss: 77399.1094 - val_mean_absolute_error: 277.9986\n",
            "Epoch 18/100\n",
            "6/6 [==============================] - 0s 7ms/step - loss: 56435.8828 - mean_absolute_error: 236.1418 - val_loss: 75148.0469 - val_mean_absolute_error: 273.9200\n",
            "Epoch 19/100\n",
            "6/6 [==============================] - 0s 7ms/step - loss: 54392.8398 - mean_absolute_error: 231.7609 - val_loss: 72503.3594 - val_mean_absolute_error: 269.0494\n",
            "Epoch 20/100\n",
            "6/6 [==============================] - 0s 7ms/step - loss: 52086.4961 - mean_absolute_error: 226.7447 - val_loss: 69701.3984 - val_mean_absolute_error: 263.7909\n",
            "Epoch 21/100\n",
            "6/6 [==============================] - 0s 7ms/step - loss: 49598.8516 - mean_absolute_error: 221.1641 - val_loss: 66543.1016 - val_mean_absolute_error: 257.7352\n",
            "Epoch 22/100\n",
            "6/6 [==============================] - 0s 7ms/step - loss: 46880.3477 - mean_absolute_error: 214.9541 - val_loss: 63234.0430 - val_mean_absolute_error: 251.2337\n",
            "Epoch 23/100\n",
            "6/6 [==============================] - 0s 7ms/step - loss: 44007.7461 - mean_absolute_error: 208.1761 - val_loss: 59666.4609 - val_mean_absolute_error: 244.0303\n",
            "Epoch 24/100\n",
            "6/6 [==============================] - 0s 7ms/step - loss: 40945.3984 - mean_absolute_error: 200.6660 - val_loss: 55849.5664 - val_mean_absolute_error: 236.0802\n",
            "Epoch 25/100\n",
            "6/6 [==============================] - 0s 7ms/step - loss: 37671.6992 - mean_absolute_error: 192.3387 - val_loss: 51699.6133 - val_mean_absolute_error: 227.1208\n",
            "Epoch 26/100\n",
            "6/6 [==============================] - 0s 7ms/step - loss: 34168.8516 - mean_absolute_error: 182.9651 - val_loss: 47360.8008 - val_mean_absolute_error: 217.3592\n",
            "Epoch 27/100\n",
            "6/6 [==============================] - 0s 8ms/step - loss: 30526.5684 - mean_absolute_error: 172.6993 - val_loss: 42630.6484 - val_mean_absolute_error: 206.1905\n",
            "Epoch 28/100\n",
            "6/6 [==============================] - 0s 7ms/step - loss: 26651.4766 - mean_absolute_error: 161.1468 - val_loss: 37937.7539 - val_mean_absolute_error: 194.4785\n",
            "Epoch 29/100\n",
            "6/6 [==============================] - 0s 7ms/step - loss: 22871.1016 - mean_absolute_error: 148.9572 - val_loss: 33009.0586 - val_mean_absolute_error: 181.3629\n",
            "Epoch 30/100\n",
            "6/6 [==============================] - 0s 7ms/step - loss: 19039.5801 - mean_absolute_error: 135.3411 - val_loss: 28176.1543 - val_mean_absolute_error: 167.5124\n",
            "Epoch 31/100\n",
            "6/6 [==============================] - 0s 7ms/step - loss: 15574.3965 - mean_absolute_error: 121.9602 - val_loss: 23935.4570 - val_mean_absolute_error: 154.3367\n",
            "Epoch 32/100\n",
            "6/6 [==============================] - 0s 8ms/step - loss: 12523.8652 - mean_absolute_error: 108.7387 - val_loss: 20005.7617 - val_mean_absolute_error: 141.0323\n",
            "Epoch 33/100\n",
            "6/6 [==============================] - 0s 6ms/step - loss: 9788.2549 - mean_absolute_error: 95.4560 - val_loss: 16450.6934 - val_mean_absolute_error: 127.8086\n",
            "Epoch 34/100\n",
            "6/6 [==============================] - 0s 6ms/step - loss: 7445.2891 - mean_absolute_error: 82.2771 - val_loss: 13278.4717 - val_mean_absolute_error: 114.7286\n",
            "Epoch 35/100\n",
            "6/6 [==============================] - 0s 7ms/step - loss: 5443.9873 - mean_absolute_error: 68.8238 - val_loss: 10241.1309 - val_mean_absolute_error: 100.6237\n",
            "Epoch 36/100\n",
            "6/6 [==============================] - 0s 6ms/step - loss: 3694.3347 - mean_absolute_error: 54.8701 - val_loss: 7723.1821 - val_mean_absolute_error: 87.2181\n",
            "Epoch 37/100\n",
            "6/6 [==============================] - 0s 6ms/step - loss: 2425.4126 - mean_absolute_error: 41.6948 - val_loss: 5645.4951 - val_mean_absolute_error: 74.3630\n",
            "Epoch 38/100\n",
            "6/6 [==============================] - 0s 6ms/step - loss: 1560.6802 - mean_absolute_error: 31.5915 - val_loss: 4174.1284 - val_mean_absolute_error: 63.7062\n",
            "Epoch 39/100\n",
            "6/6 [==============================] - 0s 6ms/step - loss: 1082.6710 - mean_absolute_error: 25.5162 - val_loss: 3099.0366 - val_mean_absolute_error: 54.6203\n",
            "Epoch 40/100\n",
            "6/6 [==============================] - 0s 6ms/step - loss: 808.7058 - mean_absolute_error: 22.3420 - val_loss: 2381.0037 - val_mean_absolute_error: 47.5957\n",
            "Epoch 41/100\n",
            "6/6 [==============================] - 0s 6ms/step - loss: 705.3536 - mean_absolute_error: 21.7444 - val_loss: 1926.4962 - val_mean_absolute_error: 42.5540\n",
            "Epoch 42/100\n",
            "6/6 [==============================] - 0s 7ms/step - loss: 674.0463 - mean_absolute_error: 21.9479 - val_loss: 1675.9548 - val_mean_absolute_error: 39.5006\n",
            "Epoch 43/100\n",
            "6/6 [==============================] - 0s 7ms/step - loss: 677.3609 - mean_absolute_error: 22.4505 - val_loss: 1546.6592 - val_mean_absolute_error: 37.8286\n",
            "Epoch 44/100\n",
            "6/6 [==============================] - 0s 7ms/step - loss: 682.8217 - mean_absolute_error: 22.6673 - val_loss: 1502.8958 - val_mean_absolute_error: 37.2457\n",
            "Epoch 45/100\n",
            "6/6 [==============================] - 0s 6ms/step - loss: 683.0894 - mean_absolute_error: 22.6999 - val_loss: 1523.3024 - val_mean_absolute_error: 37.5187\n",
            "Epoch 46/100\n",
            "6/6 [==============================] - 0s 7ms/step - loss: 680.2211 - mean_absolute_error: 22.5898 - val_loss: 1570.3081 - val_mean_absolute_error: 38.1404\n",
            "Epoch 47/100\n",
            "6/6 [==============================] - 0s 7ms/step - loss: 670.1748 - mean_absolute_error: 22.2727 - val_loss: 1697.3663 - val_mean_absolute_error: 39.8000\n",
            "Epoch 48/100\n",
            "6/6 [==============================] - 0s 7ms/step - loss: 655.2706 - mean_absolute_error: 21.5223 - val_loss: 1777.2904 - val_mean_absolute_error: 40.8034\n",
            "Epoch 49/100\n",
            "6/6 [==============================] - 0s 6ms/step - loss: 650.8412 - mean_absolute_error: 21.6659 - val_loss: 1704.8400 - val_mean_absolute_error: 39.8945\n",
            "Epoch 50/100\n",
            "6/6 [==============================] - 0s 6ms/step - loss: 645.0856 - mean_absolute_error: 21.5086 - val_loss: 1777.7594 - val_mean_absolute_error: 40.8174\n",
            "Epoch 51/100\n",
            "6/6 [==============================] - 0s 10ms/step - loss: 642.4594 - mean_absolute_error: 21.4115 - val_loss: 1727.0613 - val_mean_absolute_error: 40.1922\n",
            "Epoch 52/100\n",
            "6/6 [==============================] - 0s 7ms/step - loss: 639.2021 - mean_absolute_error: 21.3989 - val_loss: 1677.7781 - val_mean_absolute_error: 39.5728\n",
            "Epoch 53/100\n",
            "6/6 [==============================] - 0s 6ms/step - loss: 636.8693 - mean_absolute_error: 21.4491 - val_loss: 1671.4891 - val_mean_absolute_error: 39.4999\n",
            "Epoch 54/100\n",
            "6/6 [==============================] - 0s 6ms/step - loss: 633.8263 - mean_absolute_error: 21.3532 - val_loss: 1662.7738 - val_mean_absolute_error: 39.3945\n",
            "Epoch 55/100\n",
            "6/6 [==============================] - 0s 6ms/step - loss: 631.6876 - mean_absolute_error: 21.3821 - val_loss: 1636.4822 - val_mean_absolute_error: 39.0601\n",
            "Epoch 56/100\n",
            "6/6 [==============================] - 0s 6ms/step - loss: 630.0577 - mean_absolute_error: 21.3781 - val_loss: 1630.8400 - val_mean_absolute_error: 38.9919\n",
            "Epoch 57/100\n",
            "6/6 [==============================] - 0s 10ms/step - loss: 626.5473 - mean_absolute_error: 21.3233 - val_loss: 1622.9207 - val_mean_absolute_error: 38.8916\n",
            "Epoch 58/100\n",
            "6/6 [==============================] - 0s 7ms/step - loss: 626.8723 - mean_absolute_error: 21.3229 - val_loss: 1644.7781 - val_mean_absolute_error: 39.1815\n",
            "Epoch 59/100\n",
            "6/6 [==============================] - 0s 6ms/step - loss: 621.1550 - mean_absolute_error: 21.2132 - val_loss: 1577.3420 - val_mean_absolute_error: 38.3058\n",
            "Epoch 60/100\n",
            "6/6 [==============================] - 0s 6ms/step - loss: 618.4369 - mean_absolute_error: 21.1899 - val_loss: 1628.5472 - val_mean_absolute_error: 38.9870\n",
            "Epoch 61/100\n",
            "6/6 [==============================] - 0s 10ms/step - loss: 603.9514 - mean_absolute_error: 20.7752 - val_loss: 1669.7327 - val_mean_absolute_error: 39.5243\n",
            "Epoch 62/100\n",
            "6/6 [==============================] - 0s 6ms/step - loss: 583.0954 - mean_absolute_error: 20.1903 - val_loss: 1601.0897 - val_mean_absolute_error: 38.6698\n",
            "Epoch 63/100\n",
            "6/6 [==============================] - 0s 9ms/step - loss: 553.6865 - mean_absolute_error: 19.1576 - val_loss: 1450.4888 - val_mean_absolute_error: 36.6454\n",
            "Epoch 64/100\n",
            "6/6 [==============================] - 0s 7ms/step - loss: 523.4266 - mean_absolute_error: 19.3744 - val_loss: 1386.4137 - val_mean_absolute_error: 35.8054\n",
            "Epoch 65/100\n",
            "6/6 [==============================] - 0s 6ms/step - loss: 497.0176 - mean_absolute_error: 18.8117 - val_loss: 1661.2228 - val_mean_absolute_error: 39.5946\n",
            "Epoch 66/100\n",
            "6/6 [==============================] - 0s 7ms/step - loss: 512.9813 - mean_absolute_error: 19.0081 - val_loss: 1505.2694 - val_mean_absolute_error: 37.5151\n",
            "Epoch 67/100\n",
            "6/6 [==============================] - 0s 7ms/step - loss: 466.8235 - mean_absolute_error: 17.5520 - val_loss: 1171.4485 - val_mean_absolute_error: 32.6828\n",
            "Epoch 68/100\n",
            "6/6 [==============================] - 0s 8ms/step - loss: 463.5398 - mean_absolute_error: 18.1057 - val_loss: 1254.6084 - val_mean_absolute_error: 34.0417\n",
            "Epoch 69/100\n",
            "6/6 [==============================] - 0s 7ms/step - loss: 427.7452 - mean_absolute_error: 17.4373 - val_loss: 1357.0581 - val_mean_absolute_error: 35.6201\n",
            "Epoch 70/100\n",
            "6/6 [==============================] - 0s 8ms/step - loss: 386.2426 - mean_absolute_error: 16.1173 - val_loss: 1101.5529 - val_mean_absolute_error: 31.7942\n",
            "Epoch 71/100\n",
            "6/6 [==============================] - 0s 7ms/step - loss: 340.2080 - mean_absolute_error: 15.2135 - val_loss: 1048.8842 - val_mean_absolute_error: 31.0129\n",
            "Epoch 72/100\n",
            "6/6 [==============================] - 0s 7ms/step - loss: 322.8685 - mean_absolute_error: 14.8602 - val_loss: 1054.8271 - val_mean_absolute_error: 31.1777\n",
            "Epoch 73/100\n",
            "6/6 [==============================] - 0s 7ms/step - loss: 334.1312 - mean_absolute_error: 15.3973 - val_loss: 1092.5668 - val_mean_absolute_error: 31.8678\n",
            "Epoch 74/100\n",
            "6/6 [==============================] - 0s 7ms/step - loss: 294.3470 - mean_absolute_error: 14.3470 - val_loss: 1032.5935 - val_mean_absolute_error: 30.9470\n",
            "Epoch 75/100\n",
            "6/6 [==============================] - 0s 7ms/step - loss: 298.3990 - mean_absolute_error: 14.3777 - val_loss: 808.2680 - val_mean_absolute_error: 26.9465\n",
            "Epoch 76/100\n",
            "6/6 [==============================] - 0s 7ms/step - loss: 249.0595 - mean_absolute_error: 12.6446 - val_loss: 671.2207 - val_mean_absolute_error: 24.1103\n",
            "Epoch 77/100\n",
            "6/6 [==============================] - 0s 7ms/step - loss: 249.6337 - mean_absolute_error: 13.0227 - val_loss: 687.7545 - val_mean_absolute_error: 24.6067\n",
            "Epoch 78/100\n",
            "6/6 [==============================] - 0s 9ms/step - loss: 226.9313 - mean_absolute_error: 12.7696 - val_loss: 790.6491 - val_mean_absolute_error: 26.8355\n",
            "Epoch 79/100\n",
            "6/6 [==============================] - 0s 8ms/step - loss: 216.8454 - mean_absolute_error: 12.3115 - val_loss: 796.1506 - val_mean_absolute_error: 27.0292\n",
            "Epoch 80/100\n",
            "6/6 [==============================] - 0s 7ms/step - loss: 192.8784 - mean_absolute_error: 11.3466 - val_loss: 547.0172 - val_mean_absolute_error: 21.6169\n",
            "Epoch 81/100\n",
            "6/6 [==============================] - 0s 6ms/step - loss: 173.8684 - mean_absolute_error: 10.5837 - val_loss: 521.8333 - val_mean_absolute_error: 21.0983\n",
            "Epoch 82/100\n",
            "6/6 [==============================] - 0s 6ms/step - loss: 158.2688 - mean_absolute_error: 10.4537 - val_loss: 496.7455 - val_mean_absolute_error: 20.5703\n",
            "Epoch 83/100\n",
            "6/6 [==============================] - 0s 7ms/step - loss: 127.3769 - mean_absolute_error: 9.0917 - val_loss: 436.2131 - val_mean_absolute_error: 19.1508\n",
            "Epoch 84/100\n",
            "6/6 [==============================] - 0s 6ms/step - loss: 105.6470 - mean_absolute_error: 8.0495 - val_loss: 341.2995 - val_mean_absolute_error: 16.2922\n",
            "Epoch 85/100\n",
            "6/6 [==============================] - 0s 7ms/step - loss: 88.8042 - mean_absolute_error: 7.3410 - val_loss: 295.3129 - val_mean_absolute_error: 14.7974\n",
            "Epoch 86/100\n",
            "6/6 [==============================] - 0s 7ms/step - loss: 81.7583 - mean_absolute_error: 7.2751 - val_loss: 269.6003 - val_mean_absolute_error: 14.1135\n",
            "Epoch 87/100\n",
            "6/6 [==============================] - 0s 6ms/step - loss: 71.7036 - mean_absolute_error: 6.7035 - val_loss: 261.2731 - val_mean_absolute_error: 13.9315\n",
            "Epoch 88/100\n",
            "6/6 [==============================] - 0s 6ms/step - loss: 64.9828 - mean_absolute_error: 6.4280 - val_loss: 235.6110 - val_mean_absolute_error: 13.1039\n",
            "Epoch 89/100\n",
            "6/6 [==============================] - 0s 6ms/step - loss: 57.4174 - mean_absolute_error: 5.8823 - val_loss: 228.0197 - val_mean_absolute_error: 12.9628\n",
            "Epoch 90/100\n",
            "6/6 [==============================] - 0s 6ms/step - loss: 55.3209 - mean_absolute_error: 5.9716 - val_loss: 218.9450 - val_mean_absolute_error: 12.7664\n",
            "Epoch 91/100\n",
            "6/6 [==============================] - 0s 6ms/step - loss: 45.5987 - mean_absolute_error: 5.3561 - val_loss: 233.4411 - val_mean_absolute_error: 13.4696\n",
            "Epoch 92/100\n",
            "6/6 [==============================] - 0s 7ms/step - loss: 45.6142 - mean_absolute_error: 5.4754 - val_loss: 227.8540 - val_mean_absolute_error: 13.3522\n",
            "Epoch 93/100\n",
            "6/6 [==============================] - 0s 7ms/step - loss: 37.2275 - mean_absolute_error: 4.7011 - val_loss: 173.7600 - val_mean_absolute_error: 11.1073\n",
            "Epoch 94/100\n",
            "6/6 [==============================] - 0s 8ms/step - loss: 31.7698 - mean_absolute_error: 4.3744 - val_loss: 159.3006 - val_mean_absolute_error: 10.5453\n",
            "Epoch 95/100\n",
            "6/6 [==============================] - 0s 6ms/step - loss: 28.2285 - mean_absolute_error: 4.0813 - val_loss: 136.2346 - val_mean_absolute_error: 9.6676\n",
            "Epoch 96/100\n",
            "6/6 [==============================] - 0s 7ms/step - loss: 25.0796 - mean_absolute_error: 3.8664 - val_loss: 120.3262 - val_mean_absolute_error: 9.0335\n",
            "Epoch 97/100\n",
            "6/6 [==============================] - 0s 8ms/step - loss: 23.0729 - mean_absolute_error: 3.6594 - val_loss: 129.5092 - val_mean_absolute_error: 9.4285\n",
            "Epoch 98/100\n",
            "6/6 [==============================] - 0s 7ms/step - loss: 21.9640 - mean_absolute_error: 3.6331 - val_loss: 121.7208 - val_mean_absolute_error: 9.1345\n",
            "Epoch 99/100\n",
            "6/6 [==============================] - 0s 6ms/step - loss: 21.1519 - mean_absolute_error: 3.5678 - val_loss: 104.6786 - val_mean_absolute_error: 8.3844\n",
            "Epoch 100/100\n",
            "6/6 [==============================] - 0s 6ms/step - loss: 19.4448 - mean_absolute_error: 3.4252 - val_loss: 117.9855 - val_mean_absolute_error: 8.9992\n"
          ]
        },
        {
          "output_type": "execute_result",
          "data": {
            "text/plain": [
              "<keras.callbacks.History at 0x7fae81d7cfd0>"
            ]
          },
          "metadata": {},
          "execution_count": 49
        }
      ]
    },
    {
      "cell_type": "code",
      "source": [
        "#plotting graph for the data \n",
        "train_predictions = model.predict(X_train).flatten()\n",
        "\n",
        "plt.plot(dates_train, train_predictions)\n",
        "plt.plot(dates_train, y_train)\n",
        "plt.legend(['Training Predictions', 'Training Observations'])"
      ],
      "metadata": {
        "colab": {
          "base_uri": "https://localhost:8080/",
          "height": 300
        },
        "id": "CU0NllAqRXnK",
        "outputId": "280a2c32-c9d9-4a52-910d-0286a609303d"
      },
      "execution_count": null,
      "outputs": [
        {
          "output_type": "stream",
          "name": "stdout",
          "text": [
            "6/6 [==============================] - 0s 2ms/step\n"
          ]
        },
        {
          "output_type": "execute_result",
          "data": {
            "text/plain": [
              "<matplotlib.legend.Legend at 0x7fae80a3d340>"
            ]
          },
          "metadata": {},
          "execution_count": 50
        },
        {
          "output_type": "display_data",
          "data": {
            "text/plain": [
              "<Figure size 432x288 with 1 Axes>"
            ],
            "image/png": "[encoded data removed]"
          },
          "metadata": {
            "needs_background": "light"
          }
        }
      ]
    },
    {
      "cell_type": "code",
      "source": [
        "val_predictions = model.predict(X_val).flatten()\n",
        "\n",
        "plt.plot(dates_val, val_predictions)\n",
        "plt.plot(dates_val, y_val)\n",
        "plt.legend(['Validation Predictions', 'Validation Observations'])"
      ],
      "metadata": {
        "colab": {
          "base_uri": "https://localhost:8080/",
          "height": 300
        },
        "id": "p5RisKCLRziC",
        "outputId": "0fa7fe59-987c-43f2-8e2d-24814f9ec5ce"
      },
      "execution_count": null,
      "outputs": [
        {
          "output_type": "stream",
          "name": "stdout",
          "text": [
            "1/1 [==============================] - 0s 13ms/step\n"
          ]
        },
        {
          "output_type": "execute_result",
          "data": {
            "text/plain": [
              "<matplotlib.legend.Legend at 0x7fae809aad00>"
            ]
          },
          "metadata": {},
          "execution_count": 51
        },
        {
          "output_type": "display_data",
          "data": {
            "text/plain": [
              "<Figure size 432x288 with 1 Axes>"
            ],
            "image/png": "[encoded data removed]"
          },
          "metadata": {
            "needs_background": "light"
          }
        }
      ]
    },
    {
      "cell_type": "code",
      "source": [
        "test_predictions = model.predict(X_test).flatten()\n",
        "\n",
        "plt.plot(dates_test, test_predictions)\n",
        "plt.plot(dates_test, y_test)\n",
        "plt.legend(['Testing Predictions', 'Testing Observations'])"
      ],
      "metadata": {
        "colab": {
          "base_uri": "https://localhost:8080/",
          "height": 300
        },
        "id": "vTEwAKYfR8tI",
        "outputId": "58dd1b4a-3856-46eb-99c2-f828472591f1"
      },
      "execution_count": null,
      "outputs": [
        {
          "output_type": "stream",
          "name": "stdout",
          "text": [
            "1/1 [==============================] - 0s 16ms/step\n"
          ]
        },
        {
          "output_type": "execute_result",
          "data": {
            "text/plain": [
              "<matplotlib.legend.Legend at 0x7fae8090f310>"
            ]
          },
          "metadata": {},
          "execution_count": 52
        },
        {
          "output_type": "display_data",
          "data": {
            "text/plain": [
              "<Figure size 432x288 with 1 Axes>"
            ],
            "image/png": "[encoded data removed]"
          },
          "metadata": {
            "needs_background": "light"
          }
        }
      ]
    },
    {
      "cell_type": "code",
      "source": [
        "plt.plot(dates_train, train_predictions)\n",
        "plt.plot(dates_train, y_train)\n",
        "plt.plot(dates_val, val_predictions)\n",
        "plt.plot(dates_val, y_val)\n",
        "plt.plot(dates_test, test_predictions)\n",
        "plt.plot(dates_test, y_test)\n",
        "plt.legend(['Training Predictions', \n",
        "            'Training Observations',\n",
        "            'Validation Predictions', \n",
        "            'Validation Observations',\n",
        "            'Testing Predictions', \n",
        "            'Testing Observations'])"
      ],
      "metadata": {
        "colab": {
          "base_uri": "https://localhost:8080/",
          "height": 282
        },
        "id": "6reNmiu5SD4o",
        "outputId": "7c009157-b59f-4a99-dbd5-c86afc641077"
      },
      "execution_count": null,
      "outputs": [
        {
          "output_type": "execute_result",
          "data": {
            "text/plain": [
              "<matplotlib.legend.Legend at 0x7fae8097b3d0>"
            ]
          },
          "metadata": {},
          "execution_count": 53
        },
        {
          "output_type": "display_data",
          "data": {
            "text/plain": [
              "<Figure size 432x288 with 1 Axes>"
            ],
            "image/png": "[encoded data removed]"
          },
          "metadata": {
            "needs_background": "light"
          }
        }
      ]
    },
    {
      "cell_type": "code",
      "source": [
        "from copy import deepcopy\n",
        "\n",
        "recursive_predictions = []\n",
        "recursive_dates = nm.concatenate([dates_val, dates_test])\n",
        "\n",
        "for target_date in recursive_dates:\n",
        "  last_window = deepcopy(X_train[-1])\n",
        "  next_prediction = model.predict(nm.array([last_window])).flatten()\n",
        "  recursive_predictions.append(next_prediction)\n",
        "  last_window[-1] = next_prediction"
      ],
      "metadata": {
        "colab": {
          "base_uri": "https://localhost:8080/"
        },
        "id": "27qhYNY2SJaY",
        "outputId": "96520696-c0bf-42e5-fa0e-304d91738b23"
      },
      "execution_count": null,
      "outputs": [
        {
          "output_type": "stream",
          "name": "stdout",
          "text": [
            "1/1 [==============================] - 0s 14ms/step\n",
            "1/1 [==============================] - 0s 20ms/step\n",
            "1/1 [==============================] - 0s 16ms/step\n",
            "1/1 [==============================] - 0s 19ms/step\n",
            "1/1 [==============================] - 0s 15ms/step\n",
            "1/1 [==============================] - 0s 15ms/step\n",
            "1/1 [==============================] - 0s 16ms/step\n",
            "1/1 [==============================] - 0s 17ms/step\n",
            "1/1 [==============================] - 0s 14ms/step\n",
            "1/1 [==============================] - 0s 18ms/step\n",
            "1/1 [==============================] - 0s 15ms/step\n",
            "1/1 [==============================] - 0s 15ms/step\n",
            "1/1 [==============================] - 0s 14ms/step\n",
            "1/1 [==============================] - 0s 15ms/step\n",
            "1/1 [==============================] - 0s 16ms/step\n",
            "1/1 [==============================] - 0s 15ms/step\n",
            "1/1 [==============================] - 0s 15ms/step\n",
            "1/1 [==============================] - 0s 17ms/step\n",
            "1/1 [==============================] - 0s 17ms/step\n",
            "1/1 [==============================] - 0s 15ms/step\n",
            "1/1 [==============================] - 0s 17ms/step\n",
            "1/1 [==============================] - 0s 15ms/step\n",
            "1/1 [==============================] - 0s 14ms/step\n",
            "1/1 [==============================] - 0s 14ms/step\n",
            "1/1 [==============================] - 0s 14ms/step\n",
            "1/1 [==============================] - 0s 14ms/step\n",
            "1/1 [==============================] - 0s 14ms/step\n",
            "1/1 [==============================] - 0s 13ms/step\n",
            "1/1 [==============================] - 0s 14ms/step\n",
            "1/1 [==============================] - 0s 14ms/step\n",
            "1/1 [==============================] - 0s 14ms/step\n",
            "1/1 [==============================] - 0s 14ms/step\n",
            "1/1 [==============================] - 0s 15ms/step\n",
            "1/1 [==============================] - 0s 14ms/step\n",
            "1/1 [==============================] - 0s 15ms/step\n",
            "1/1 [==============================] - 0s 15ms/step\n",
            "1/1 [==============================] - 0s 13ms/step\n",
            "1/1 [==============================] - 0s 14ms/step\n",
            "1/1 [==============================] - 0s 13ms/step\n",
            "1/1 [==============================] - 0s 13ms/step\n",
            "1/1 [==============================] - 0s 13ms/step\n",
            "1/1 [==============================] - 0s 15ms/step\n",
            "1/1 [==============================] - 0s 13ms/step\n",
            "1/1 [==============================] - 0s 12ms/step\n",
            "1/1 [==============================] - 0s 13ms/step\n",
            "1/1 [==============================] - 0s 13ms/step\n",
            "1/1 [==============================] - 0s 13ms/step\n"
          ]
        }
      ]
    },
    {
      "cell_type": "code",
      "source": [
        "plt.plot(dates_train, train_predictions)\n",
        "plt.plot(dates_train, y_train)\n",
        "plt.plot(dates_val, val_predictions)\n",
        "plt.plot(dates_val, y_val)\n",
        "plt.plot(dates_test, test_predictions)\n",
        "plt.plot(dates_test, y_test)\n",
        "plt.plot(recursive_dates, recursive_predictions)\n",
        "plt.legend(['Training Predictions', \n",
        "            'Training Observations',\n",
        "            'Validation Predictions', \n",
        "            'Validation Observations',\n",
        "            'Testing Predictions', \n",
        "            'Testing Observations',\n",
        "            'Recursive Predictions'])"
      ],
      "metadata": {
        "colab": {
          "base_uri": "https://localhost:8080/",
          "height": 282
        },
        "id": "KTR6Xig7SSys",
        "outputId": "d2666102-4933-473b-8b35-b5e4c8aeff11"
      },
      "execution_count": null,
      "outputs": [
        {
          "output_type": "execute_result",
          "data": {
            "text/plain": [
              "<matplotlib.legend.Legend at 0x7fae8077df40>"
            ]
          },
          "metadata": {},
          "execution_count": 55
        },
        {
          "output_type": "display_data",
          "data": {
            "text/plain": [
              "<Figure size 432x288 with 1 Axes>"
            ],
            "image/png": "[encoded data removed]"
          },
          "metadata": {
            "needs_background": "light"
          }
        }
      ]
    },
    {
      "cell_type": "code",
      "source": [
        "from google.colab import drive\n",
        "drive.mount('/content/drive')"
      ],
      "metadata": {
        "id": "eEm6l2t0Hg4N",
        "colab": {
          "base_uri": "https://localhost:8080/"
        },
        "outputId": "bec25ac9-1569-48cb-c18a-4b494cc22e76"
      },
      "execution_count": null,
      "outputs": [
        {
          "output_type": "stream",
          "name": "stdout",
          "text": [
            "Mounted at /content/drive\n"
          ]
        }
      ]
    }
  ]
}