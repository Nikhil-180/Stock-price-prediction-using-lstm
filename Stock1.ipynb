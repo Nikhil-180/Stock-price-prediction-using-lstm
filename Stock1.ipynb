{
  "nbformat": 4,
  "nbformat_minor": 0,
  "metadata": {
    "colab": {
      "provenance": []
    },
    "kernelspec": {
      "name": "python3",
      "display_name": "Python 3"
    },
    "language_info": {
      "name": "python"
    }
  },
  "cells": [
    {
      "cell_type": "code",
      "execution_count": null,
      "metadata": {
        "colab": {
          "base_uri": "https://localhost:8080/",
          "height": 237
        },
        "id": "4iaj1zvmh05P",
        "outputId": "09ee3363-f640-4b6c-b2ef-54de86cd91fd"
      },
      "outputs": [
        {
          "output_type": "execute_result",
          "data": {
            "text/plain": [
              "                  Open        High         Low       Close   Adj Close  \\\n",
              "Date                                                                     \n",
              "2019-01-28  334.700012  336.299988  328.880005  335.660004  335.660004   \n",
              "2019-01-29  335.869995  338.220001  328.149994  328.899994  328.899994   \n",
              "2019-01-30  332.750000  341.779999  330.799988  340.660004  340.660004   \n",
              "2019-01-31  339.679993  345.989990  338.089996  339.500000  339.500000   \n",
              "2019-02-01  337.179993  346.839996  336.500000  339.850006  339.850006   \n",
              "\n",
              "             Volume  \n",
              "Date                 \n",
              "2019-01-28  8652100  \n",
              "2019-01-29  7655200  \n",
              "2019-01-30  9234500  \n",
              "2019-01-31  8535500  \n",
              "2019-02-01  9827800  "
            ],
            "text/html": [
              "\n",
              "  <div id=\"df-0df549ff-37e4-47d8-9f18-4dee1ab6b0f4\">\n",
              "    <div class=\"colab-df-container\">\n",
              "      <div>\n",
              "<style scoped>\n",
              "    .dataframe tbody tr th:only-of-type {\n",
              "        vertical-align: middle;\n",
              "    }\n",
              "\n",
              "    .dataframe tbody tr th {\n",
              "        vertical-align: top;\n",
              "    }\n",
              "\n",
              "    .dataframe thead th {\n",
              "        text-align: right;\n",
              "    }\n",
              "</style>\n",
              "<table border=\"1\" class=\"dataframe\">\n",
              "  <thead>\n",
              "    <tr style=\"text-align: right;\">\n",
              "      <th></th>\n",
              "      <th>Open</th>\n",
              "      <th>High</th>\n",
              "      <th>Low</th>\n",
              "      <th>Close</th>\n",
              "      <th>Adj Close</th>\n",
              "      <th>Volume</th>\n",
              "    </tr>\n",
              "    <tr>\n",
              "      <th>Date</th>\n",
              "      <th></th>\n",
              "      <th></th>\n",
              "      <th></th>\n",
              "      <th></th>\n",
              "      <th></th>\n",
              "      <th></th>\n",
              "    </tr>\n",
              "  </thead>\n",
              "  <tbody>\n",
              "    <tr>\n",
              "      <th>2019-01-28</th>\n",
              "      <td>334.700012</td>\n",
              "      <td>336.299988</td>\n",
              "      <td>328.880005</td>\n",
              "      <td>335.660004</td>\n",
              "      <td>335.660004</td>\n",
              "      <td>8652100</td>\n",
              "    </tr>\n",
              "    <tr>\n",
              "      <th>2019-01-29</th>\n",
              "      <td>335.869995</td>\n",
              "      <td>338.220001</td>\n",
              "      <td>328.149994</td>\n",
              "      <td>328.899994</td>\n",
              "      <td>328.899994</td>\n",
              "      <td>7655200</td>\n",
              "    </tr>\n",
              "    <tr>\n",
              "      <th>2019-01-30</th>\n",
              "      <td>332.750000</td>\n",
              "      <td>341.779999</td>\n",
              "      <td>330.799988</td>\n",
              "      <td>340.660004</td>\n",
              "      <td>340.660004</td>\n",
              "      <td>9234500</td>\n",
              "    </tr>\n",
              "    <tr>\n",
              "      <th>2019-01-31</th>\n",
              "      <td>339.679993</td>\n",
              "      <td>345.989990</td>\n",
              "      <td>338.089996</td>\n",
              "      <td>339.500000</td>\n",
              "      <td>339.500000</td>\n",
              "      <td>8535500</td>\n",
              "    </tr>\n",
              "    <tr>\n",
              "      <th>2019-02-01</th>\n",
              "      <td>337.179993</td>\n",
              "      <td>346.839996</td>\n",
              "      <td>336.500000</td>\n",
              "      <td>339.850006</td>\n",
              "      <td>339.850006</td>\n",
              "      <td>9827800</td>\n",
              "    </tr>\n",
              "  </tbody>\n",
              "</table>\n",
              "</div>\n",
              "      <button class=\"colab-df-convert\" onclick=\"convertToInteractive('df-0df549ff-37e4-47d8-9f18-4dee1ab6b0f4')\"\n",
              "              title=\"Convert this dataframe to an interactive table.\"\n",
              "              style=\"display:none;\">\n",
              "        \n",
              "  <svg xmlns=\"http://www.w3.org/2000/svg\" height=\"24px\"viewBox=\"0 0 24 24\"\n",
              "       width=\"24px\">\n",
              "    <path d=\"M0 0h24v24H0V0z\" fill=\"none\"/>\n",
              "    <path d=\"M18.56 5.44l.94 2.06.94-2.06 2.06-.94-2.06-.94-.94-2.06-.94 2.06-2.06.94zm-11 1L8.5 8.5l.94-2.06 2.06-.94-2.06-.94L8.5 2.5l-.94 2.06-2.06.94zm10 10l.94 2.06.94-2.06 2.06-.94-2.06-.94-.94-2.06-.94 2.06-2.06.94z\"/><path d=\"M17.41 7.96l-1.37-1.37c-.4-.4-.92-.59-1.43-.59-.52 0-1.04.2-1.43.59L10.3 9.45l-7.72 7.72c-.78.78-.78 2.05 0 2.83L4 21.41c.39.39.9.59 1.41.59.51 0 1.02-.2 1.41-.59l7.78-7.78 2.81-2.81c.8-.78.8-2.07 0-2.86zM5.41 20L4 18.59l7.72-7.72 1.47 1.35L5.41 20z\"/>\n",
              "  </svg>\n",
              "      </button>\n",
              "      \n",
              "  <style>\n",
              "    .colab-df-container {\n",
              "      display:flex;\n",
              "      flex-wrap:wrap;\n",
              "      gap: 12px;\n",
              "    }\n",
              "\n",
              "    .colab-df-convert {\n",
              "      background-color: #E8F0FE;\n",
              "      border: none;\n",
              "      border-radius: 50%;\n",
              "      cursor: pointer;\n",
              "      display: none;\n",
              "      fill: #1967D2;\n",
              "      height: 32px;\n",
              "      padding: 0 0 0 0;\n",
              "      width: 32px;\n",
              "    }\n",
              "\n",
              "    .colab-df-convert:hover {\n",
              "      background-color: #E2EBFA;\n",
              "      box-shadow: 0px 1px 2px rgba(60, 64, 67, 0.3), 0px 1px 3px 1px rgba(60, 64, 67, 0.15);\n",
              "      fill: #174EA6;\n",
              "    }\n",
              "\n",
              "    [theme=dark] .colab-df-convert {\n",
              "      background-color: #3B4455;\n",
              "      fill: #D2E3FC;\n",
              "    }\n",
              "\n",
              "    [theme=dark] .colab-df-convert:hover {\n",
              "      background-color: #434B5C;\n",
              "      box-shadow: 0px 1px 3px 1px rgba(0, 0, 0, 0.15);\n",
              "      filter: drop-shadow(0px 1px 2px rgba(0, 0, 0, 0.3));\n",
              "      fill: #FFFFFF;\n",
              "    }\n",
              "  </style>\n",
              "\n",
              "      <script>\n",
              "        const buttonEl =\n",
              "          document.querySelector('#df-0df549ff-37e4-47d8-9f18-4dee1ab6b0f4 button.colab-df-convert');\n",
              "        buttonEl.style.display =\n",
              "          google.colab.kernel.accessAllowed ? 'block' : 'none';\n",
              "\n",
              "        async function convertToInteractive(key) {\n",
              "          const element = document.querySelector('#df-0df549ff-37e4-47d8-9f18-4dee1ab6b0f4');\n",
              "          const dataTable =\n",
              "            await google.colab.kernel.invokeFunction('convertToInteractive',\n",
              "                                                     [key], {});\n",
              "          if (!dataTable) return;\n",
              "\n",
              "          const docLinkHtml = 'Like what you see? Visit the ' +\n",
              "            '<a target=\"_blank\" href=https://colab.research.google.com/notebooks/data_table.ipynb>data table notebook</a>'\n",
              "            + ' to learn more about interactive tables.';\n",
              "          element.innerHTML = '';\n",
              "          dataTable['output_type'] = 'display_data';\n",
              "          await google.colab.output.renderOutput(dataTable, element);\n",
              "          const docLink = document.createElement('div');\n",
              "          docLink.innerHTML = docLinkHtml;\n",
              "          element.appendChild(docLink);\n",
              "        }\n",
              "      </script>\n",
              "    </div>\n",
              "  </div>\n",
              "  "
            ]
          },
          "metadata": {},
          "execution_count": 19
        }
      ],
      "source": [
        "import pandas as pd\n",
        "stock_data=pd.read_csv('./NFLX.csv',index_col='Date')\n",
        "stock_data.head()"
      ]
    },
    {
      "cell_type": "code",
      "source": [
        "import matplotlib.dates as mdates\n",
        "import matplotlib.pyplot as plt\n",
        "import datetime as dt\n",
        "\n",
        "plt.figure(figsize=(15,10))\n",
        "plt.gca().xaxis.set_major_formatter(mdates.DateFormatter ('%Y-%m-%d')) \n",
        "plt.gca().xaxis.set_major_locator(mdates.DayLocator(interval=60))\n",
        "x_dates = [dt.datetime.strptime(d, '%Y-%m-%d').date() for d in stock_data.index.values]\n",
        "\n",
        "plt.plot(x_dates, stock_data['High'], label='High')\n",
        "plt.plot(x_dates, stock_data['Low'], label='Low')\n",
        "plt.xlabel('Time Scale')\n",
        "plt.ylabel('Scaled USD')\n",
        "plt.legend()\n",
        "plt.gcf().autofmt_xdate()\n",
        "plt.show()\n"
      ],
      "metadata": {
        "colab": {
          "base_uri": "https://localhost:8080/",
          "height": 579
        },
        "id": "HjMCTSVYi6HT",
        "outputId": "f66f1a42-d5d4-4f23-ca70-f5dc7c2fe91f"
      },
      "execution_count": null,
      "outputs": [
        {
          "output_type": "display_data",
          "data": {
            "text/plain": [
              "<Figure size 1080x720 with 1 Axes>"
            ],
            "image/png": "[encoded data removed]"
          },
          "metadata": {
            "needs_background": "light"
          }
        }
      ]
    },
    {
      "cell_type": "code",
      "source": [
        "import numpy as np \n",
        "from tensorflow.keras.models import Sequential\n",
        "from tensorflow.keras.layers import Dense\n",
        "from tensorflow.keras.layers import LSTM\n",
        "from tensorflow.keras.layers import Dropout \n",
        "from tensorflow.keras.layers import *\n",
        "from tensorflow.keras.callbacks import EarlyStopping\n",
        "\n",
        "from sklearn.preprocessing import MinMaxScaler, StandardScaler \n",
        "from sklearn.metrics import mean_squared_error\n",
        "from sklearn.metrics import mean_absolute_percentage_error \n",
        "from sklearn.model_selection import train_test_split\n",
        "from sklearn.model_selection import TimeSeriesSplit\n",
        "from sklearn.metrics import mean_squared_error\n"
      ],
      "metadata": {
        "id": "gP-2WS6-kANH"
      },
      "execution_count": null,
      "outputs": []
    },
    {
      "cell_type": "code",
      "source": [
        "target_y = stock_data['Close']\n",
        "X_feat = stock_data.iloc[:,0:3]\n"
      ],
      "metadata": {
        "id": "qRhCFsUnkVrM"
      },
      "execution_count": null,
      "outputs": []
    },
    {
      "cell_type": "code",
      "source": [
        "#Feature Scaling\n",
        "SC = StandardScaler()\n",
        "X_ft  =  SC.fit_transform(X_feat.values) \n",
        "X_ft = pd.DataFrame(columns=X_feat.columns,data=X_ft,index=X_feat.index)\n"
      ],
      "metadata": {
        "id": "HRkwETLdkjfb"
      },
      "execution_count": null,
      "outputs": []
    },
    {
      "cell_type": "code",
      "source": [
        "def  lstm_split(data, n_steps):\n",
        "      X, y = [], [] \n",
        "      for i in range(len(data)-n_steps+1):\n",
        "            X.append(data[i:i +n_steps,:-1])\n",
        "            y.append(data[i + n_steps-1, -1])\n",
        "      return np.array(X),  np.array(y)\n"
      ],
      "metadata": {
        "id": "gC13KbNZlN-G"
      },
      "execution_count": null,
      "outputs": []
    },
    {
      "cell_type": "code",
      "source": [
        "X1, y1 = lstm_split(stock_data_ft.values, n_steps=2)\n",
        "train_split=0.8\n",
        "split_idx =  int(np.ceil(len(X1)*train_split)) \n",
        "date_index  = stock_data_ft.index\n",
        "\n",
        "X_train,  X_test  = X1[:split_idx],  X1[split_idx:]\n",
        "y_train, y_test  = y1[:split_idx],  y1[split_idx:] \n",
        "X_train_date,  X_test_date = date_index[:split_idx],  date_index[split_idx:]\n",
        "print(X1.shape,  X_train.shape, X_test.shape,  y_test.shape)\n"
      ],
      "metadata": {
        "colab": {
          "base_uri": "https://localhost:8080/"
        },
        "id": "26FmZ05rl4h0",
        "outputId": "a6c053dd-c100-4e3a-fb6d-7b6ddbf5a3c4"
      },
      "execution_count": null,
      "outputs": [
        {
          "output_type": "stream",
          "name": "stdout",
          "text": [
            "(966, 2, 5) (773, 2, 5) (193, 2, 5) (193,)\n"
          ]
        }
      ]
    },
    {
      "cell_type": "code",
      "source": [
        "lstm = Sequential()\n",
        "lstm.add(LSTM(32, input_shape=(X_train.shape[1],  X_train.shape[2]),\n",
        "              activation= 'relu', return_sequences=True))\n",
        "lstm.add(Dense(1))\n",
        "lstm.compile(loss='mean_squared_error',  optimizer='adam')\n",
        "lstm.summary()\n"
      ],
      "metadata": {
        "colab": {
          "base_uri": "https://localhost:8080/"
        },
        "id": "-m5Rxkqdohr7",
        "outputId": "4d705edb-a02d-4cf4-eabe-1a05aef3cd55"
      },
      "execution_count": null,
      "outputs": [
        {
          "output_type": "stream",
          "name": "stdout",
          "text": [
            "Model: \"sequential\"\n",
            "_________________________________________________________________\n",
            " Layer (type)                Output Shape              Param #   \n",
            "=================================================================\n",
            " lstm (LSTM)                 (None, 2, 32)             4864      \n",
            "                                                                 \n",
            " dense (Dense)               (None, 2, 1)              33        \n",
            "                                                                 \n",
            "=================================================================\n",
            "Total params: 4,897\n",
            "Trainable params: 4,897\n",
            "Non-trainable params: 0\n",
            "_________________________________________________________________\n"
          ]
        }
      ]
    },
    {
      "cell_type": "code",
      "source": [
        "history=lstm.fit(X_train, y_train,\n",
        "                  epochs=100, batch_size=4, \n",
        "                  verbose=2, shuffle=False)\n"
      ],
      "metadata": {
        "colab": {
          "base_uri": "https://localhost:8080/"
        },
        "id": "ctG3fL17pYS3",
        "outputId": "323ec266-7d5e-4494-d223-abd466168c81"
      },
      "execution_count": null,
      "outputs": [
        {
          "output_type": "stream",
          "name": "stdout",
          "text": [
            "Epoch 1/100\n",
            "194/194 - 0s - loss: 40877644840960.0000 - 362ms/epoch - 2ms/step\n",
            "Epoch 2/100\n",
            "194/194 - 0s - loss: 40864223068160.0000 - 364ms/epoch - 2ms/step\n",
            "Epoch 3/100\n",
            "194/194 - 0s - loss: 40850738380800.0000 - 331ms/epoch - 2ms/step\n",
            "Epoch 4/100\n",
            "194/194 - 0s - loss: 40837186584576.0000 - 344ms/epoch - 2ms/step\n",
            "Epoch 5/100\n",
            "194/194 - 0s - loss: 40823550902272.0000 - 362ms/epoch - 2ms/step\n",
            "Epoch 6/100\n",
            "194/194 - 0s - loss: 40809848111104.0000 - 347ms/epoch - 2ms/step\n",
            "Epoch 7/100\n",
            "194/194 - 0s - loss: 40796074016768.0000 - 342ms/epoch - 2ms/step\n",
            "Epoch 8/100\n",
            "194/194 - 0s - loss: 40782199259136.0000 - 365ms/epoch - 2ms/step\n",
            "Epoch 9/100\n",
            "194/194 - 0s - loss: 40768265781248.0000 - 408ms/epoch - 2ms/step\n",
            "Epoch 10/100\n",
            "194/194 - 0s - loss: 40754244222976.0000 - 361ms/epoch - 2ms/step\n",
            "Epoch 11/100\n",
            "194/194 - 0s - loss: 40740142972928.0000 - 342ms/epoch - 2ms/step\n",
            "Epoch 12/100\n",
            "194/194 - 0s - loss: 40725970419712.0000 - 388ms/epoch - 2ms/step\n",
            "Epoch 13/100\n",
            "194/194 - 0s - loss: 40711709786112.0000 - 354ms/epoch - 2ms/step\n",
            "Epoch 14/100\n",
            "194/194 - 0s - loss: 40697382043648.0000 - 367ms/epoch - 2ms/step\n",
            "Epoch 15/100\n",
            "194/194 - 0s - loss: 40682978803712.0000 - 373ms/epoch - 2ms/step\n",
            "Epoch 16/100\n",
            "194/194 - 0s - loss: 40668474900480.0000 - 352ms/epoch - 2ms/step\n",
            "Epoch 17/100\n",
            "194/194 - 0s - loss: 40653891305472.0000 - 373ms/epoch - 2ms/step\n",
            "Epoch 18/100\n",
            "194/194 - 0s - loss: 40639223824384.0000 - 374ms/epoch - 2ms/step\n",
            "Epoch 19/100\n",
            "194/194 - 0s - loss: 40624472457216.0000 - 360ms/epoch - 2ms/step\n",
            "Epoch 20/100\n",
            "194/194 - 0s - loss: 40609649786880.0000 - 372ms/epoch - 2ms/step\n",
            "Epoch 21/100\n",
            "194/194 - 0s - loss: 40594734841856.0000 - 340ms/epoch - 2ms/step\n",
            "Epoch 22/100\n",
            "194/194 - 0s - loss: 40579727622144.0000 - 351ms/epoch - 2ms/step\n",
            "Epoch 23/100\n",
            "194/194 - 0s - loss: 40564636516352.0000 - 355ms/epoch - 2ms/step\n",
            "Epoch 24/100\n",
            "194/194 - 0s - loss: 40549478301696.0000 - 346ms/epoch - 2ms/step\n",
            "Epoch 25/100\n",
            "194/194 - 0s - loss: 40534215229440.0000 - 353ms/epoch - 2ms/step\n",
            "Epoch 26/100\n",
            "194/194 - 0s - loss: 40518872465408.0000 - 371ms/epoch - 2ms/step\n",
            "Epoch 27/100\n",
            "194/194 - 0s - loss: 40503437426688.0000 - 352ms/epoch - 2ms/step\n",
            "Epoch 28/100\n",
            "194/194 - 0s - loss: 40487918501888.0000 - 357ms/epoch - 2ms/step\n",
            "Epoch 29/100\n",
            "194/194 - 0s - loss: 40472328273920.0000 - 367ms/epoch - 2ms/step\n",
            "Epoch 30/100\n",
            "194/194 - 0s - loss: 40456641576960.0000 - 340ms/epoch - 2ms/step\n",
            "Epoch 31/100\n",
            "194/194 - 0s - loss: 40440850022400.0000 - 354ms/epoch - 2ms/step\n",
            "Epoch 32/100\n",
            "194/194 - 0s - loss: 40424970387456.0000 - 350ms/epoch - 2ms/step\n",
            "Epoch 33/100\n",
            "194/194 - 0s - loss: 40409015255040.0000 - 356ms/epoch - 2ms/step\n",
            "Epoch 34/100\n",
            "194/194 - 0s - loss: 40392955265024.0000 - 351ms/epoch - 2ms/step\n",
            "Epoch 35/100\n",
            "194/194 - 0s - loss: 40376819777536.0000 - 344ms/epoch - 2ms/step\n",
            "Epoch 36/100\n",
            "194/194 - 0s - loss: 40360600403968.0000 - 360ms/epoch - 2ms/step\n",
            "Epoch 37/100\n",
            "194/194 - 0s - loss: 40344263589888.0000 - 374ms/epoch - 2ms/step\n",
            "Epoch 38/100\n",
            "194/194 - 0s - loss: 40327847084032.0000 - 355ms/epoch - 2ms/step\n",
            "Epoch 39/100\n",
            "194/194 - 0s - loss: 40311342497792.0000 - 371ms/epoch - 2ms/step\n",
            "Epoch 40/100\n",
            "194/194 - 0s - loss: 40294749831168.0000 - 374ms/epoch - 2ms/step\n",
            "Epoch 41/100\n",
            "194/194 - 0s - loss: 40278052306944.0000 - 358ms/epoch - 2ms/step\n",
            "Epoch 42/100\n",
            "194/194 - 0s - loss: 40261275090944.0000 - 348ms/epoch - 2ms/step\n",
            "Epoch 43/100\n",
            "194/194 - 0s - loss: 40244388823040.0000 - 361ms/epoch - 2ms/step\n",
            "Epoch 44/100\n",
            "194/194 - 0s - loss: 40227422863360.0000 - 372ms/epoch - 2ms/step\n",
            "Epoch 45/100\n",
            "194/194 - 0s - loss: 40210335268864.0000 - 355ms/epoch - 2ms/step\n",
            "Epoch 46/100\n",
            "194/194 - 0s - loss: 40193184759808.0000 - 351ms/epoch - 2ms/step\n",
            "Epoch 47/100\n",
            "194/194 - 0s - loss: 40175929393152.0000 - 343ms/epoch - 2ms/step\n",
            "Epoch 48/100\n",
            "194/194 - 0s - loss: 40158573363200.0000 - 379ms/epoch - 2ms/step\n",
            "Epoch 49/100\n",
            "194/194 - 0s - loss: 40141129252864.0000 - 374ms/epoch - 2ms/step\n",
            "Epoch 50/100\n",
            "194/194 - 0s - loss: 40123571896320.0000 - 356ms/epoch - 2ms/step\n",
            "Epoch 51/100\n",
            "194/194 - 0s - loss: 40105951625216.0000 - 370ms/epoch - 2ms/step\n",
            "Epoch 52/100\n",
            "194/194 - 0s - loss: 40088209719296.0000 - 334ms/epoch - 2ms/step\n",
            "Epoch 53/100\n",
            "194/194 - 0s - loss: 40070371344384.0000 - 374ms/epoch - 2ms/step\n",
            "Epoch 54/100\n",
            "194/194 - 0s - loss: 40052444889088.0000 - 355ms/epoch - 2ms/step\n",
            "Epoch 55/100\n",
            "194/194 - 0s - loss: 40034421964800.0000 - 352ms/epoch - 2ms/step\n",
            "Epoch 56/100\n",
            "194/194 - 0s - loss: 40016277405696.0000 - 378ms/epoch - 2ms/step\n",
            "Epoch 57/100\n",
            "194/194 - 0s - loss: 39998074126336.0000 - 379ms/epoch - 2ms/step\n",
            "Epoch 58/100\n",
            "194/194 - 0s - loss: 39979736629248.0000 - 347ms/epoch - 2ms/step\n",
            "Epoch 59/100\n",
            "194/194 - 0s - loss: 39961319440384.0000 - 352ms/epoch - 2ms/step\n",
            "Epoch 60/100\n",
            "194/194 - 0s - loss: 39942797393920.0000 - 369ms/epoch - 2ms/step\n",
            "Epoch 61/100\n",
            "194/194 - 0s - loss: 39924174684160.0000 - 372ms/epoch - 2ms/step\n",
            "Epoch 62/100\n",
            "194/194 - 0s - loss: 39905476476928.0000 - 377ms/epoch - 2ms/step\n",
            "Epoch 63/100\n",
            "194/194 - 0s - loss: 39886644051968.0000 - 365ms/epoch - 2ms/step\n",
            "Epoch 64/100\n",
            "194/194 - 0s - loss: 39867715158016.0000 - 383ms/epoch - 2ms/step\n",
            "Epoch 65/100\n",
            "194/194 - 0s - loss: 39848706572288.0000 - 429ms/epoch - 2ms/step\n",
            "Epoch 66/100\n",
            "194/194 - 0s - loss: 39829572157440.0000 - 496ms/epoch - 3ms/step\n",
            "Epoch 67/100\n",
            "194/194 - 0s - loss: 39810374828032.0000 - 468ms/epoch - 2ms/step\n",
            "Epoch 68/100\n",
            "194/194 - 0s - loss: 39791064252416.0000 - 452ms/epoch - 2ms/step\n",
            "Epoch 69/100\n",
            "194/194 - 0s - loss: 39771632041984.0000 - 420ms/epoch - 2ms/step\n",
            "Epoch 70/100\n",
            "194/194 - 0s - loss: 39752115945472.0000 - 354ms/epoch - 2ms/step\n",
            "Epoch 71/100\n",
            "194/194 - 0s - loss: 39732507574272.0000 - 364ms/epoch - 2ms/step\n",
            "Epoch 72/100\n",
            "194/194 - 0s - loss: 39712773373952.0000 - 349ms/epoch - 2ms/step\n",
            "Epoch 73/100\n",
            "194/194 - 0s - loss: 39692942704640.0000 - 359ms/epoch - 2ms/step\n",
            "Epoch 74/100\n",
            "194/194 - 0s - loss: 39673019760640.0000 - 358ms/epoch - 2ms/step\n",
            "Epoch 75/100\n",
            "194/194 - 0s - loss: 39653000347648.0000 - 388ms/epoch - 2ms/step\n",
            "Epoch 76/100\n",
            "194/194 - 0s - loss: 39632871882752.0000 - 377ms/epoch - 2ms/step\n",
            "Epoch 77/100\n",
            "194/194 - 0s - loss: 39612642754560.0000 - 319ms/epoch - 2ms/step\n",
            "Epoch 78/100\n",
            "194/194 - 0s - loss: 39592296185856.0000 - 327ms/epoch - 2ms/step\n",
            "Epoch 79/100\n",
            "194/194 - 0s - loss: 39571861536768.0000 - 372ms/epoch - 2ms/step\n",
            "Epoch 80/100\n",
            "194/194 - 0s - loss: 39551326224384.0000 - 370ms/epoch - 2ms/step\n",
            "Epoch 81/100\n",
            "194/194 - 0s - loss: 39530690248704.0000 - 365ms/epoch - 2ms/step\n",
            "Epoch 82/100\n",
            "194/194 - 0s - loss: 39509945221120.0000 - 353ms/epoch - 2ms/step\n",
            "Epoch 83/100\n",
            "194/194 - 0s - loss: 39489112113152.0000 - 369ms/epoch - 2ms/step\n",
            "Epoch 84/100\n",
            "194/194 - 0s - loss: 39468153176064.0000 - 353ms/epoch - 2ms/step\n",
            "Epoch 85/100\n",
            "194/194 - 0s - loss: 39447114547200.0000 - 364ms/epoch - 2ms/step\n",
            "Epoch 86/100\n",
            "194/194 - 0s - loss: 39425962672128.0000 - 345ms/epoch - 2ms/step\n",
            "Epoch 87/100\n",
            "194/194 - 0s - loss: 39404693356544.0000 - 359ms/epoch - 2ms/step\n",
            "Epoch 88/100\n",
            "194/194 - 0s - loss: 39383340154880.0000 - 339ms/epoch - 2ms/step\n",
            "Epoch 89/100\n",
            "194/194 - 0s - loss: 39361894678528.0000 - 352ms/epoch - 2ms/step\n",
            "Epoch 90/100\n",
            "194/194 - 0s - loss: 39340331761664.0000 - 347ms/epoch - 2ms/step\n",
            "Epoch 91/100\n",
            "194/194 - 0s - loss: 39318663987200.0000 - 349ms/epoch - 2ms/step\n",
            "Epoch 92/100\n",
            "194/194 - 0s - loss: 39296899743744.0000 - 337ms/epoch - 2ms/step\n",
            "Epoch 93/100\n",
            "194/194 - 0s - loss: 39275009671168.0000 - 390ms/epoch - 2ms/step\n",
            "Epoch 94/100\n",
            "194/194 - 0s - loss: 39253056684032.0000 - 375ms/epoch - 2ms/step\n",
            "Epoch 95/100\n",
            "194/194 - 0s - loss: 39230969479168.0000 - 359ms/epoch - 2ms/step\n",
            "Epoch 96/100\n",
            "194/194 - 0s - loss: 39208785805312.0000 - 362ms/epoch - 2ms/step\n",
            "Epoch 97/100\n",
            "194/194 - 0s - loss: 39186526633984.0000 - 343ms/epoch - 2ms/step\n",
            "Epoch 98/100\n",
            "194/194 - 0s - loss: 39164133244928.0000 - 388ms/epoch - 2ms/step\n",
            "Epoch 99/100\n",
            "194/194 - 0s - loss: 39141622415360.0000 - 349ms/epoch - 2ms/step\n",
            "Epoch 100/100\n",
            "194/194 - 0s - loss: 39119048671232.0000 - 345ms/epoch - 2ms/step\n"
          ]
        }
      ]
    },
    {
      "cell_type": "code",
      "source": [
        "y_pred = lstm.predict(X_test)"
      ],
      "metadata": {
        "colab": {
          "base_uri": "https://localhost:8080/"
        },
        "id": "E0asjYbmqHkY",
        "outputId": "da998b32-0427-4756-af1f-8e6de87e73ed"
      },
      "execution_count": null,
      "outputs": [
        {
          "output_type": "stream",
          "name": "stdout",
          "text": [
            "7/7 [==============================] - 0s 2ms/step\n"
          ]
        }
      ]
    },
    {
      "cell_type": "code",
      "source": [
        "rmse = mean_squared_error(y_test, y_pred, squared=False)\n",
        "mape = mean_absolute_percentage_error(y_test, y_pred)\n",
        "print(\"RSME: \",rmse)\n",
        "print(\"MAPE: \", mape)\n"
      ],
      "metadata": {
        "colab": {
          "base_uri": "https://localhost:8080/",
          "height": 380
        },
        "id": "9HT9pOGtsloH",
        "outputId": "afe3914d-e78b-4f38-a79d-36870975542f"
      },
      "execution_count": null,
      "outputs": [
        {
          "output_type": "error",
          "ename": "ValueError",
          "evalue": "ignored",
          "traceback": [
            "\u001b[0;31m---------------------------------------------------------------------------\u001b[0m",
            "\u001b[0;31mValueError\u001b[0m                                Traceback (most recent call last)",
            "\u001b[0;32m<ipython-input-18-bff02a291b93>\u001b[0m in \u001b[0;36m<module>\u001b[0;34m\u001b[0m\n\u001b[0;32m----> 1\u001b[0;31m \u001b[0mrmse\u001b[0m \u001b[0;34m=\u001b[0m \u001b[0mmean_squared_error\u001b[0m\u001b[0;34m(\u001b[0m\u001b[0my_test\u001b[0m\u001b[0;34m,\u001b[0m \u001b[0my_pred\u001b[0m\u001b[0;34m,\u001b[0m \u001b[0msquared\u001b[0m\u001b[0;34m=\u001b[0m\u001b[0;32mFalse\u001b[0m\u001b[0;34m)\u001b[0m\u001b[0;34m\u001b[0m\u001b[0;34m\u001b[0m\u001b[0m\n\u001b[0m\u001b[1;32m      2\u001b[0m \u001b[0mmape\u001b[0m \u001b[0;34m=\u001b[0m \u001b[0mmean_absolute_percentage_error\u001b[0m\u001b[0;34m(\u001b[0m\u001b[0my_test\u001b[0m\u001b[0;34m,\u001b[0m \u001b[0my_pred\u001b[0m\u001b[0;34m)\u001b[0m\u001b[0;34m\u001b[0m\u001b[0;34m\u001b[0m\u001b[0m\n\u001b[1;32m      3\u001b[0m \u001b[0mprint\u001b[0m\u001b[0;34m(\u001b[0m\u001b[0;34m\"RSME: \"\u001b[0m\u001b[0;34m,\u001b[0m\u001b[0mrmse\u001b[0m\u001b[0;34m)\u001b[0m\u001b[0;34m\u001b[0m\u001b[0;34m\u001b[0m\u001b[0m\n\u001b[1;32m      4\u001b[0m \u001b[0mprint\u001b[0m\u001b[0;34m(\u001b[0m\u001b[0;34m\"MAPE: \"\u001b[0m\u001b[0;34m,\u001b[0m \u001b[0mmape\u001b[0m\u001b[0;34m)\u001b[0m\u001b[0;34m\u001b[0m\u001b[0;34m\u001b[0m\u001b[0m\n",
            "\u001b[0;32m/usr/local/lib/python3.7/dist-packages/sklearn/metrics/_regression.py\u001b[0m in \u001b[0;36mmean_squared_error\u001b[0;34m(y_true, y_pred, sample_weight, multioutput, squared)\u001b[0m\n\u001b[1;32m    437\u001b[0m     \"\"\"\n\u001b[1;32m    438\u001b[0m     y_type, y_true, y_pred, multioutput = _check_reg_targets(\n\u001b[0;32m--> 439\u001b[0;31m         \u001b[0my_true\u001b[0m\u001b[0;34m,\u001b[0m \u001b[0my_pred\u001b[0m\u001b[0;34m,\u001b[0m \u001b[0mmultioutput\u001b[0m\u001b[0;34m\u001b[0m\u001b[0;34m\u001b[0m\u001b[0m\n\u001b[0m\u001b[1;32m    440\u001b[0m     )\n\u001b[1;32m    441\u001b[0m     \u001b[0mcheck_consistent_length\u001b[0m\u001b[0;34m(\u001b[0m\u001b[0my_true\u001b[0m\u001b[0;34m,\u001b[0m \u001b[0my_pred\u001b[0m\u001b[0;34m,\u001b[0m \u001b[0msample_weight\u001b[0m\u001b[0;34m)\u001b[0m\u001b[0;34m\u001b[0m\u001b[0;34m\u001b[0m\u001b[0m\n",
            "\u001b[0;32m/usr/local/lib/python3.7/dist-packages/sklearn/metrics/_regression.py\u001b[0m in \u001b[0;36m_check_reg_targets\u001b[0;34m(y_true, y_pred, multioutput, dtype)\u001b[0m\n\u001b[1;32m     94\u001b[0m     \u001b[0mcheck_consistent_length\u001b[0m\u001b[0;34m(\u001b[0m\u001b[0my_true\u001b[0m\u001b[0;34m,\u001b[0m \u001b[0my_pred\u001b[0m\u001b[0;34m)\u001b[0m\u001b[0;34m\u001b[0m\u001b[0;34m\u001b[0m\u001b[0m\n\u001b[1;32m     95\u001b[0m     \u001b[0my_true\u001b[0m \u001b[0;34m=\u001b[0m \u001b[0mcheck_array\u001b[0m\u001b[0;34m(\u001b[0m\u001b[0my_true\u001b[0m\u001b[0;34m,\u001b[0m \u001b[0mensure_2d\u001b[0m\u001b[0;34m=\u001b[0m\u001b[0;32mFalse\u001b[0m\u001b[0;34m,\u001b[0m \u001b[0mdtype\u001b[0m\u001b[0;34m=\u001b[0m\u001b[0mdtype\u001b[0m\u001b[0;34m)\u001b[0m\u001b[0;34m\u001b[0m\u001b[0;34m\u001b[0m\u001b[0m\n\u001b[0;32m---> 96\u001b[0;31m     \u001b[0my_pred\u001b[0m \u001b[0;34m=\u001b[0m \u001b[0mcheck_array\u001b[0m\u001b[0;34m(\u001b[0m\u001b[0my_pred\u001b[0m\u001b[0;34m,\u001b[0m \u001b[0mensure_2d\u001b[0m\u001b[0;34m=\u001b[0m\u001b[0;32mFalse\u001b[0m\u001b[0;34m,\u001b[0m \u001b[0mdtype\u001b[0m\u001b[0;34m=\u001b[0m\u001b[0mdtype\u001b[0m\u001b[0;34m)\u001b[0m\u001b[0;34m\u001b[0m\u001b[0;34m\u001b[0m\u001b[0m\n\u001b[0m\u001b[1;32m     97\u001b[0m \u001b[0;34m\u001b[0m\u001b[0m\n\u001b[1;32m     98\u001b[0m     \u001b[0;32mif\u001b[0m \u001b[0my_true\u001b[0m\u001b[0;34m.\u001b[0m\u001b[0mndim\u001b[0m \u001b[0;34m==\u001b[0m \u001b[0;36m1\u001b[0m\u001b[0;34m:\u001b[0m\u001b[0;34m\u001b[0m\u001b[0;34m\u001b[0m\u001b[0m\n",
            "\u001b[0;32m/usr/local/lib/python3.7/dist-packages/sklearn/utils/validation.py\u001b[0m in \u001b[0;36mcheck_array\u001b[0;34m(array, accept_sparse, accept_large_sparse, dtype, order, copy, force_all_finite, ensure_2d, allow_nd, ensure_min_samples, ensure_min_features, estimator)\u001b[0m\n\u001b[1;32m    794\u001b[0m             raise ValueError(\n\u001b[1;32m    795\u001b[0m                 \u001b[0;34m\"Found array with dim %d. %s expected <= 2.\"\u001b[0m\u001b[0;34m\u001b[0m\u001b[0;34m\u001b[0m\u001b[0m\n\u001b[0;32m--> 796\u001b[0;31m                 \u001b[0;34m%\u001b[0m \u001b[0;34m(\u001b[0m\u001b[0marray\u001b[0m\u001b[0;34m.\u001b[0m\u001b[0mndim\u001b[0m\u001b[0;34m,\u001b[0m \u001b[0mestimator_name\u001b[0m\u001b[0;34m)\u001b[0m\u001b[0;34m\u001b[0m\u001b[0;34m\u001b[0m\u001b[0m\n\u001b[0m\u001b[1;32m    797\u001b[0m             )\n\u001b[1;32m    798\u001b[0m \u001b[0;34m\u001b[0m\u001b[0m\n",
            "\u001b[0;31mValueError\u001b[0m: Found array with dim 3. Estimator expected <= 2."
          ]
        }
      ]
    }
  ]
}